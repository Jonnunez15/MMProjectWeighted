{
 "cells": [
  {
   "cell_type": "code",
   "execution_count": 2,
   "metadata": {},
   "outputs": [],
   "source": [
    "import pandas as pd"
   ]
  },
  {
   "cell_type": "code",
   "execution_count": 3,
   "metadata": {},
   "outputs": [],
   "source": [
    "##Load DataSets\n",
    "team_stats = pd.read_csv(\"DEV _ March Madness Fixed.csv\")\n",
    "game_results = pd.read_csv(\"Game History Fixed.csv\")"
   ]
  },
  {
   "cell_type": "code",
   "execution_count": 4,
   "metadata": {},
   "outputs": [],
   "source": [
    "##Merge team stats from DEV file with Winning teams from Game History file (Merged based on team name)\n",
    "winners = game_results.merge(\n",
    "    team_stats,\n",
    "    left_on=['Season', 'W TEAM'],\n",
    "    right_on=['Season', 'Mapped ESPN Team Name'],\n",
    "    how=\"left\"  # Keep all tournament games, add matching team stats\n",
    ")\n",
    "winners['Win'] = 1  # Mark wins"
   ]
  },
  {
   "cell_type": "code",
   "execution_count": 5,
   "metadata": {},
   "outputs": [],
   "source": [
    "##Merge team stats from DEV file with Losing teams from Game History file (Merged based on team name)\n",
    "losers = game_results.merge(\n",
    "    team_stats,\n",
    "    left_on=['Season', 'L TEAM'],\n",
    "    right_on=['Season', 'Mapped ESPN Team Name'],\n",
    "    how=\"left\"\n",
    ")\n",
    "losers['Win'] = 0  # Mark losses"
   ]
  },
  {
   "cell_type": "code",
   "execution_count": 6,
   "metadata": {},
   "outputs": [],
   "source": [
    "##Concatenate winners and losers into a single file (new row for each team in each game)\n",
    "merged_data = pd.concat([winners, losers], ignore_index=True)\n",
    "\n",
    "# Now, **add back 2025 team stats**, ensuring they stay in the final dataset\n",
    "merged_data = pd.concat([merged_data, team_stats[team_stats[\"Season\"] == 2025]], ignore_index=True)\n",
    "\n",
    "merged_data = merged_data[merged_data[\"Season\"] >= 2008]"
   ]
  },
  {
   "cell_type": "code",
   "execution_count": 7,
   "metadata": {},
   "outputs": [],
   "source": [
    "##Export File as CSV\n",
    "merged_data.to_csv(\"merged_MM_data.csv\", index=False)"
   ]
  },
  {
   "cell_type": "code",
   "execution_count": 8,
   "metadata": {},
   "outputs": [],
   "source": [
    "##Define Tournament Rounds\n",
    "tournament_rounds = {0: \"First Four\", 1 : \"Round of 64\", 2 : \"Round of 32\", 3 : \"Sweet 16\", 4 : \"Elite 8\", 5: \"Final 4\", 6 : \"National Championship\"}"
   ]
  },
  {
   "cell_type": "code",
   "execution_count": 9,
   "metadata": {},
   "outputs": [],
   "source": [
    "# Replace NaN in \"Round\" with -1 (indicating no tournament round played)\n",
    "merged_data[\"Round\"] = merged_data[\"Round\"].fillna(-1).astype(int)\n",
    "\n",
    "\n",
    "##make sure \"Round\" is an integer\n",
    "merged_data[\"Round\"] = merged_data[\"Round\"].astype(int)\n",
    "\n",
    "##find max round each team reached in a given season\n",
    "team_ceiling = merged_data.groupby(['Season', 'Mapped ESPN Team Name'])['Round'].max().reset_index()\n",
    "\n",
    "##rename column\n",
    "team_ceiling.rename(columns={\"Round\": 'Max_Round_Reached'}, inplace=True)\n",
    "\n",
    "##merge back into dataset\n",
    "merged_data = merged_data.merge(team_ceiling, on=['Season', 'Mapped ESPN Team Name'], how='left')\n",
    "\n",
    "##Save to csv for observation\n",
    "merged_data.to_csv(\"Merged_data_with_Team_Ceilings.csv\", index=False)"
   ]
  },
  {
   "cell_type": "code",
   "execution_count": 10,
   "metadata": {},
   "outputs": [
    {
     "name": "stdout",
     "output_type": "stream",
     "text": [
      "      Season     Mapped ESPN Team Name  Round  Max_Round_Reached\n",
      "0       2008          Mount St. Mary's      0                1.0\n",
      "1       2009            Morehead State      0                1.0\n",
      "2       2010            Morehead State      0                0.0\n",
      "3       2011                   Clemson      0                1.0\n",
      "4       2011             UNC Asheville      0                1.0\n",
      "...      ...                       ...    ...                ...\n",
      "2484    2025               Alabama A&M     -1               -1.0\n",
      "2485    2025              Coppin State     -1               -1.0\n",
      "2486    2025             Chicago State     -1               -1.0\n",
      "2487    2025       Arkansas-Pine Bluff     -1               -1.0\n",
      "2488    2025  Mississippi Valley State     -1               -1.0\n",
      "\n",
      "[2464 rows x 4 columns]\n"
     ]
    }
   ],
   "source": [
    "##Display the data set with round advancements\n",
    "print(merged_data[['Season', \"Mapped ESPN Team Name\", 'Round', 'Max_Round_Reached']].drop_duplicates())"
   ]
  },
  {
   "cell_type": "code",
   "execution_count": 11,
   "metadata": {},
   "outputs": [],
   "source": [
    "##Add in Round Names as a new column\n",
    "merged_data[\"Round_Name\"] = merged_data[\"Round\"].map(tournament_rounds)\n",
    "merged_data[\"Max_Round_Reached_Name\"] = merged_data[\"Max_Round_Reached\"].map(tournament_rounds)"
   ]
  },
  {
   "cell_type": "code",
   "execution_count": 12,
   "metadata": {},
   "outputs": [],
   "source": [
    "merged_data.to_csv(\"Updated & Merged Data.csv\", index=False)"
   ]
  },
  {
   "cell_type": "code",
   "execution_count": 13,
   "metadata": {},
   "outputs": [
    {
     "name": "stdout",
     "output_type": "stream",
     "text": [
      "      Season     Mapped ESPN Team Name Max_Round_Reached_Name\n",
      "0       2008          Mount St. Mary's            Round of 64\n",
      "1       2009            Morehead State            Round of 64\n",
      "2       2010            Morehead State             First Four\n",
      "3       2011                   Clemson            Round of 64\n",
      "4       2011             UNC Asheville            Round of 64\n",
      "...      ...                       ...                    ...\n",
      "2484    2025               Alabama A&M                    NaN\n",
      "2485    2025              Coppin State                    NaN\n",
      "2486    2025             Chicago State                    NaN\n",
      "2487    2025       Arkansas-Pine Bluff                    NaN\n",
      "2488    2025  Mississippi Valley State                    NaN\n",
      "\n",
      "[1442 rows x 3 columns]\n"
     ]
    }
   ],
   "source": [
    "print(merged_data[['Season', 'Mapped ESPN Team Name', 'Max_Round_Reached_Name']].drop_duplicates())"
   ]
  },
  {
   "cell_type": "code",
   "execution_count": 14,
   "metadata": {},
   "outputs": [],
   "source": [
    "import matplotlib.pyplot as plt\n",
    "import seaborn as sns"
   ]
  },
  {
   "cell_type": "code",
   "execution_count": 15,
   "metadata": {},
   "outputs": [],
   "source": [
    "##Read the new file\n",
    "merged_data = pd.read_csv(\"Updated & Merged Data.csv\")"
   ]
  },
  {
   "cell_type": "code",
   "execution_count": 16,
   "metadata": {},
   "outputs": [],
   "source": [
    "##Select only numeric collumns (we want to find correlations between deep runs and certain team stats)\n",
    "merged_data[\"Max_Round_Reached\"] = merged_data[\"Max_Round_Reached\"].astype(float)\n",
    "\n",
    "numeric_columns = merged_data.select_dtypes(include=['number'])\n",
    "\n",
    "##remove \"round\", \"win\" & \"daynum\" from analysis as it will have near perfect correlation and isnt a 'stat'\n",
    "numeric_columns = numeric_columns.drop(columns=[\"Round\"], errors=\"ignore\")\n",
    "numeric_columns = numeric_columns.drop(columns=[\"DayNum\"], errors=\"ignore\")\n",
    "numeric_columns = numeric_columns.drop(columns=[\"Win\"], errors=\"ignore\")\n"
   ]
  },
  {
   "cell_type": "code",
   "execution_count": 17,
   "metadata": {},
   "outputs": [],
   "source": [
    "##Find & Sort correlations\n",
    "correlations = numeric_columns.corr()[\"Max_Round_Reached\"].drop(\"Max_Round_Reached\")\n",
    "\n",
    "correlations = correlations.sort_values(ascending=False)"
   ]
  },
  {
   "cell_type": "code",
   "execution_count": 18,
   "metadata": {},
   "outputs": [
    {
     "name": "stdout",
     "output_type": "stream",
     "text": [
      "AdjEM                            0.731946\n",
      "Net Rating                       0.731907\n",
      "Adjusted Offensive Efficiency    0.587842\n",
      "AdjOE                            0.586965\n",
      "Raw Offensive Efficiency         0.431552\n",
      "OE                               0.431423\n",
      "ORPct                            0.317392\n",
      "EffectiveHeight                  0.316000\n",
      "FG3Pct                           0.289281\n",
      "CenterHeight                     0.283738\n",
      "eFGPct                           0.282766\n",
      "OppNSTRate                       0.265555\n",
      "PFHeight                         0.257345\n",
      "BlockPct                         0.249853\n",
      "SFHeight                         0.226098\n",
      "Name: Max_Round_Reached, dtype: float64\n",
      "RankDE                                 -0.455165\n",
      "OppFG2Pct                              -0.470152\n",
      "DE                                     -0.529716\n",
      "Raw Defensive Efficiency               -0.529929\n",
      "RankOE                                 -0.549054\n",
      "Raw Offensive Efficiency Rank          -0.549054\n",
      "Post-Season Tournament Sorting Index   -0.584273\n",
      "RankAdjDE                              -0.609669\n",
      "Adjusted Defensive Efficiency Rank     -0.609669\n",
      "Adjusted Offensive Efficiency Rank     -0.610819\n",
      "RankAdjOE                              -0.610819\n",
      "Net Rating Rank                        -0.652426\n",
      "RankAdjEM                              -0.653565\n",
      "Adjusted Defensive Efficiency          -0.671498\n",
      "AdjDE                                  -0.672031\n",
      "Name: Max_Round_Reached, dtype: float64\n"
     ]
    }
   ],
   "source": [
    "print(correlations.head(15))\n",
    "print(correlations.tail(15))"
   ]
  },
  {
   "cell_type": "code",
   "execution_count": 19,
   "metadata": {},
   "outputs": [
    {
     "name": "stderr",
     "output_type": "stream",
     "text": [
      "/tmp/ipykernel_40116/4231976441.py:2: FutureWarning: \n",
      "\n",
      "Passing `palette` without assigning `hue` is deprecated and will be removed in v0.14.0. Assign the `y` variable to `hue` and set `legend=False` for the same effect.\n",
      "\n",
      "  sns.barplot(x=correlations.head(15).values, y=correlations.head(15).index, palette=\"coolwarm\")\n"
     ]
    },
    {
     "data": {
      "image/png": "[encoded data removed]",
      "text/plain": [
       "<Figure size 1000x800 with 1 Axes>"
      ]
     },
     "metadata": {},
     "output_type": "display_data"
    }
   ],
   "source": [
    "plt.figure(figsize=(10, 8))\n",
    "sns.barplot(x=correlations.head(15).values, y=correlations.head(15).index, palette=\"coolwarm\")\n",
    "plt.xlabel(\"Correlation with Max Round Reached\")\n",
    "plt.ylabel(\"Stat name\")\n",
    "plt.title(\"March Madness Stat Correlations\")\n",
    "plt.show()"
   ]
  },
  {
   "cell_type": "code",
   "execution_count": 20,
   "metadata": {},
   "outputs": [
    {
     "name": "stdout",
     "output_type": "stream",
     "text": [
      "      Season        Champion  Net Rating    AdjEM    AdjOE\n",
      "1046    2008          Kansas        35.2  35.2083  120.873\n",
      "1047    2009  North Carolina        31.1  31.1390  123.248\n",
      "1048    2010            Duke        33.3  33.2863  121.003\n",
      "1049    2011           UConn        23.9  23.9329  115.846\n",
      "1050    2012        Kentucky        32.6  32.5881  122.182\n",
      "1051    2013      Louisville        32.9  32.9166  117.680\n",
      "1052    2014           UConn        22.1  22.1300  113.591\n",
      "1053    2015            Duke        32.5  32.4841  124.454\n",
      "1054    2016       Villanova        32.0  32.0092  122.761\n",
      "1055    2017  North Carolina        28.2  28.2180  120.675\n",
      "1056    2018       Villanova        33.8  33.7563  127.756\n",
      "1057    2019        Virginia        34.2  34.2156  123.403\n",
      "1058    2021          Baylor        33.9  33.8670  124.994\n",
      "1059    2022          Kansas        27.5  27.4855  119.187\n",
      "1060    2023           UConn        29.9  29.8627  120.799\n",
      "1061    2024           UConn        36.4  36.4262  127.524\n"
     ]
    }
   ],
   "source": [
    "# Filter only the championship game\n",
    "championship_games = merged_data[merged_data[\"Round\"] == 6]\n",
    "\n",
    "# Keep only the winning team from the championship\n",
    "champions = championship_games[championship_games[\"Win\"] == 1]\n",
    "\n",
    "# Select relevant columns\n",
    "champion_stats = champions[[\"Season\", \"W TEAM\", \"Net Rating\", \"AdjEM\", \"AdjOE\"]]\n",
    "\n",
    "# Sort by season\n",
    "champion_stats = champion_stats.sort_values(by=\"Season\", ascending=True)\n",
    "\n",
    "# Rename for clarity\n",
    "champion_stats.rename(columns={\"W TEAM\": \"Champion\"}, inplace=True)\n",
    "\n",
    "# Display the past champions’ stats\n",
    "print(champion_stats)"
   ]
  },
  {
   "cell_type": "code",
   "execution_count": 21,
   "metadata": {},
   "outputs": [],
   "source": [
    "##Read the new / updated file\n",
    "data = pd.read_csv(\"Updated & Merged Data.csv\")"
   ]
  },
  {
   "cell_type": "code",
   "execution_count": 22,
   "metadata": {},
   "outputs": [
    {
     "name": "stdout",
     "output_type": "stream",
     "text": [
      "   Season              GameID  TeamID  OpponentID  Win\n",
      "0    2008  2008_1164.0_1291.0  1291.0      1164.0  1.0\n",
      "1    2009  2009_1106.0_1287.0  1287.0      1106.0  1.0\n",
      "2    2010  2010_1115.0_1457.0  1115.0      1457.0  1.0\n",
      "3    2011  2011_1155.0_1412.0  1155.0      1412.0  1.0\n",
      "4    2011  2011_1114.0_1421.0  1421.0      1114.0  1.0\n",
      "5    2011  2011_1106.0_1427.0  1427.0      1106.0  1.0\n",
      "6    2011  2011_1425.0_1433.0  1433.0      1425.0  1.0\n",
      "7    2012  2012_1140.0_1233.0  1140.0      1233.0  1.0\n",
      "8    2012  2012_1290.0_1443.0  1443.0      1290.0  1.0\n",
      "9    2012  2012_1143.0_1378.0  1378.0      1143.0  1.0\n"
     ]
    }
   ],
   "source": [
    "# Create a unique Game ID\n",
    "data[\"GameID\"] = data.apply(lambda row: f\"{row['Season']}_{min(row['WTeamID'], row['LTeamID'])}_{max(row['WTeamID'], row['LTeamID'])}\", axis=1)\n",
    "\n",
    "# Create a \"TeamID\" column (which represents the team in that row)\n",
    "data[\"TeamID\"] = data.apply(lambda row: row[\"WTeamID\"] if row[\"Win\"] == 1 else row[\"LTeamID\"], axis=1)\n",
    "\n",
    "# Create an \"OpponentID\" column (the opposite team in that game)\n",
    "data[\"OpponentID\"] = data.apply(lambda row: row[\"LTeamID\"] if row[\"Win\"] == 1 else row[\"WTeamID\"], axis=1)\n",
    "\n",
    "# Save updated dataset for verification\n",
    "data.to_csv(\"Updated_Merged_With_GameID.csv\", index=False)\n",
    "\n",
    "# Verify the structure\n",
    "print(data[[\"Season\", \"GameID\", \"TeamID\", \"OpponentID\", \"Win\"]].head(10))"
   ]
  },
  {
   "cell_type": "code",
   "execution_count": 23,
   "metadata": {},
   "outputs": [
    {
     "name": "stdout",
     "output_type": "stream",
     "text": [
      "\n",
      "Win column breakdown:\n",
      "Win\n",
      "1.0    1063\n",
      "0.0    1063\n",
      "Name: count, dtype: int64\n",
      "Final dataset preview:\n",
      "   Season  Win  Net Rating_Diff  AdjEM_Diff  AdjOE_Diff  AdjDE_Diff  \\\n",
      "0    2008  1.0             13.1   13.082310      6.9263     -6.1560   \n",
      "1    2009  1.0              3.6    3.736331      1.3810     -2.3560   \n",
      "2    2010  1.0             12.6   12.628230     14.4391      1.8111   \n",
      "3    2011  1.0              6.5    6.521400      0.7930     -5.7285   \n",
      "4    2011  1.0              6.4    6.433560      0.8600     -5.5740   \n",
      "\n",
      "   eFGPct_Diff  TOPct_Diff  ORPct_Diff  FTRate_Diff  \n",
      "0       6.3311     -1.0333     -1.5717       2.0786  \n",
      "1      -3.2855      4.0136      6.1819       6.4071  \n",
      "2       9.4756      4.8473      5.8754       1.1539  \n",
      "3      -0.4799      0.5856      0.2855       8.7393  \n",
      "4       1.0630      3.2244      2.9001      -0.6941  \n"
     ]
    }
   ],
   "source": [
    "# Merge dataset with itself to add opponent stats\n",
    "data_with_opponent = data.merge(\n",
    "    data,\n",
    "    left_on=[\"GameID\", \"OpponentID\"],  # Match by GameID and OpponentID\n",
    "    right_on=[\"GameID\", \"TeamID\"],  # Find the opponent's row\n",
    "    suffixes=(\"\", \"_opp\")  # Opponent stats get \"_opp\" suffix\n",
    ")\n",
    "\n",
    "# Define stats to compute differences\n",
    "features = [\"Net Rating\", \"AdjEM\", \"AdjOE\", \"AdjDE\", \"eFGPct\", \"TOPct\", \"ORPct\", \"FTRate\"]\n",
    "\n",
    "# Compute stat differences (Team Stat - Opponent Stat)\n",
    "for feature in features:\n",
    "    data_with_opponent[f\"{feature}_Diff\"] = data_with_opponent[feature] - data_with_opponent[f\"{feature}_opp\"]\n",
    "\n",
    "# Keep only relevant columns\n",
    "model_data = data_with_opponent[[\"Season\", \"Win\"] + [f\"{feat}_Diff\" for feat in features]].copy()\n",
    "\n",
    "# Save the final dataset\n",
    "model_data.to_csv(\"model_ready_data_two_rows_per_game.csv\", index=False)\n",
    "\n",
    "# Verify Win column has both 1s and 0s\n",
    "print(\"\\nWin column breakdown:\")\n",
    "print(model_data[\"Win\"].value_counts())\n",
    "\n",
    "# Display a preview\n",
    "print(\"Final dataset preview:\")\n",
    "print(model_data.head())"
   ]
  },
  {
   "cell_type": "code",
   "execution_count": 24,
   "metadata": {},
   "outputs": [],
   "source": [
    "from sklearn.model_selection import train_test_split\n",
    "import pandas as pd"
   ]
  },
  {
   "cell_type": "code",
   "execution_count": 25,
   "metadata": {},
   "outputs": [
    {
     "name": "stdout",
     "output_type": "stream",
     "text": [
      "\n",
      "Win column in Training Set:\n",
      "Win\n",
      "1.0    850\n",
      "0.0    850\n",
      "Name: count, dtype: int64\n",
      "\n",
      "Win column in Test Set:\n",
      "Win\n",
      "1.0    213\n",
      "0.0    213\n",
      "Name: count, dtype: int64\n"
     ]
    }
   ],
   "source": [
    "# Load the cleaned dataset\n",
    "file_path = \"model_ready_data_two_rows_per_game.csv\"\n",
    "data = pd.read_csv(file_path)\n",
    "\n",
    "# Define the features (everything except 'Win' and 'Season')\n",
    "features = [col for col in data.columns if col not in [\"Win\", \"Season\"]]\n",
    "\n",
    "# Split into training and test sets (2008-2024 for training)\n",
    "train_data = data[data[\"Season\"] < 2025]\n",
    "X_train, X_test, y_train, y_test = train_test_split(\n",
    "    train_data[features], train_data[\"Win\"], test_size=0.2, random_state=42, stratify=train_data[\"Win\"]\n",
    ")\n",
    "\n",
    "# Verify that the split is balanced\n",
    "print(\"\\nWin column in Training Set:\")\n",
    "print(y_train.value_counts())\n",
    "print(\"\\nWin column in Test Set:\")\n",
    "print(y_test.value_counts())"
   ]
  },
  {
   "cell_type": "markdown",
   "metadata": {},
   "source": [
    "ALTERNATIVE METHOD"
   ]
  },
  {
   "cell_type": "code",
   "execution_count": 87,
   "metadata": {},
   "outputs": [
    {
     "name": "stdout",
     "output_type": "stream",
     "text": [
      "Total upsets found: 104\n",
      "\n",
      "Average stat differences in all games vs. upsets:\n",
      "                All Games  Upset Games\n",
      "AdjOE_Diff  -5.405213e-17    -5.958063\n",
      "AdjDE_Diff  -2.162085e-16     4.006247\n",
      "eFGPct_Diff  2.162085e-16    -1.655605\n",
      "TOPct_Diff   6.756517e-17     0.582496\n",
      "ORPct_Diff  -2.432346e-16    -2.170105\n",
      "FTRate_Diff -1.351303e-17     0.106971\n"
     ]
    }
   ],
   "source": [
    "# Load dataset\n",
    "file_path = \"model_ready_data_two_rows_per_game.csv\"\n",
    "data = pd.read_csv(file_path)\n",
    "\n",
    "# Define what constitutes an upset:\n",
    "# - The winning team had a significantly worse Net Rating than the loser\n",
    "# - Example threshold: Net Rating Difference < -5 (adjust as needed)\n",
    "upset_games = data[(data[\"Win\"] == 1) & (data[\"Net Rating_Diff\"] < -5)]\n",
    "\n",
    "# Check how many upsets we have\n",
    "print(f\"Total upsets found: {len(upset_games)}\")\n",
    "\n",
    "# Analyze which stats are different in upsets\n",
    "upset_feature_means = upset_games[\n",
    "    [\"AdjOE_Diff\", \"AdjDE_Diff\", \"eFGPct_Diff\", \"TOPct_Diff\", \"ORPct_Diff\", \"FTRate_Diff\"]\n",
    "].mean()\n",
    "\n",
    "# Compare to all games (to see what is unique about upsets)\n",
    "all_games_means = data[\n",
    "    [\"AdjOE_Diff\", \"AdjDE_Diff\", \"eFGPct_Diff\", \"TOPct_Diff\", \"ORPct_Diff\", \"FTRate_Diff\"]\n",
    "].mean()\n",
    "\n",
    "# Display the differences\n",
    "print(\"\\nAverage stat differences in all games vs. upsets:\")\n",
    "comparison = pd.DataFrame({\"All Games\": all_games_means, \"Upset Games\": upset_feature_means})\n",
    "print(comparison)\n",
    "\n",
    "# Save the upset data for further analysis\n",
    "upset_games.to_csv(\"upset_games_analysis2.csv\", index=False)"
   ]
  },
  {
   "cell_type": "code",
   "execution_count": 105,
   "metadata": {},
   "outputs": [],
   "source": [
    "# Increase weight of AdjDE_Diff\n",
    "data[\"AdjDE_Diff_Weighted\"] = data[\"AdjDE_Diff\"] * 3  # Adjust weight as needed\n",
    "\n",
    "# Create an \"Upset Factor\" feature (combining key upset indicators)\n",
    "data[\"Upset_Score\"] = (data[\"AdjDE_Diff_Weighted\"] * 3) + (data[\"TOPct_Diff\"] * 1.4) + (data[\"FTRate_Diff\"] * 1.7) + (data[\"AdjOE_Diff\"] * 0.5) * 2000\n",
    "\n",
    "data[\"FTRate_Diff\"] = data[\"FTRate_Diff\"] * 0.25\n",
    "\n",
    "data[\"Upset_Score2\"] = data[\"Upset_Score\"] * 2\n",
    "\n",
    "# Include these new features in training\n",
    "features = [\"Net Rating_Diff\", \"AdjDE_Diff_Weighted\",\n",
    "            \"eFGPct_Diff\", \"TOPct_Diff\", \"ORPct_Diff\", \"FTRate_Diff\", \"Upset_Score\", \"Upset_Score2\"]\n"
   ]
  },
  {
   "cell_type": "code",
   "execution_count": 106,
   "metadata": {},
   "outputs": [
    {
     "name": "stdout",
     "output_type": "stream",
     "text": [
      "\n",
      "Updated Model Accuracy: 0.7318908748824082\n",
      "\n",
      "Classification Report:\n",
      "              precision    recall  f1-score   support\n",
      "\n",
      "         0.0       0.72      0.75      0.74       532\n",
      "         1.0       0.74      0.71      0.73       531\n",
      "\n",
      "    accuracy                           0.73      1063\n",
      "   macro avg       0.73      0.73      0.73      1063\n",
      "weighted avg       0.73      0.73      0.73      1063\n",
      "\n"
     ]
    }
   ],
   "source": [
    "from sklearn.ensemble import RandomForestClassifier\n",
    "from sklearn.model_selection import train_test_split\n",
    "from sklearn.metrics import accuracy_score, classification_report\n",
    "\n",
    "# Split dataset (train on 2008-2024, test on past seasons)\n",
    "train_data = data[data[\"Season\"] < 2025]\n",
    "X_train, X_test, y_train, y_test = train_test_split(\n",
    "    train_data[features], train_data[\"Win\"], test_size=0.5, random_state=42, stratify=train_data[\"Win\"]\n",
    ")\n",
    "\n",
    "# Train the updated model\n",
    "model = RandomForestClassifier(n_estimators=300, random_state=100)\n",
    "model.fit(X_train, y_train)\n",
    "\n",
    "# Evaluate the updated model\n",
    "y_pred = model.predict(X_test)\n",
    "print(\"\\nUpdated Model Accuracy:\", accuracy_score(y_test, y_pred))\n",
    "print(\"\\nClassification Report:\")\n",
    "print(classification_report(y_test, y_pred))"
   ]
  },
  {
   "cell_type": "code",
   "execution_count": 107,
   "metadata": {},
   "outputs": [
    {
     "name": "stdout",
     "output_type": "stream",
     "text": [
      "\n",
      "Feature Importances:\n",
      "               Feature  Importance\n",
      "0      Net Rating_Diff    0.229966\n",
      "1  AdjDE_Diff_Weighted    0.167308\n",
      "6          Upset_Score    0.130254\n",
      "7         Upset_Score2    0.121327\n",
      "4           ORPct_Diff    0.094394\n",
      "2          eFGPct_Diff    0.088150\n",
      "5          FTRate_Diff    0.085327\n",
      "3           TOPct_Diff    0.083273\n"
     ]
    },
    {
     "data": {
      "image/png": "[encoded data removed]",
      "text/plain": [
       "<Figure size 1000x600 with 1 Axes>"
      ]
     },
     "metadata": {},
     "output_type": "display_data"
    }
   ],
   "source": [
    "import matplotlib.pyplot as plt\n",
    "import numpy as np\n",
    "\n",
    "# Get feature importances from the trained model\n",
    "feature_importances = model.feature_importances_\n",
    "\n",
    "# Create a DataFrame to display feature importance\n",
    "importance_df = pd.DataFrame({\"Feature\": features, \"Importance\": feature_importances})\n",
    "importance_df = importance_df.sort_values(by=\"Importance\", ascending=False)\n",
    "\n",
    "# Print feature importance\n",
    "print(\"\\nFeature Importances:\")\n",
    "print(importance_df)\n",
    "\n",
    "# Plot feature importance\n",
    "plt.figure(figsize=(10, 6))\n",
    "plt.barh(importance_df[\"Feature\"], importance_df[\"Importance\"], color=\"blue\")\n",
    "plt.xlabel(\"Feature Importance Score\")\n",
    "plt.ylabel(\"Feature\")\n",
    "plt.title(\"Feature Importance in Random Forest Model\")\n",
    "plt.gca().invert_yaxis()\n",
    "plt.show()"
   ]
  },
  {
   "cell_type": "code",
   "execution_count": 108,
   "metadata": {},
   "outputs": [
    {
     "name": "stdout",
     "output_type": "stream",
     "text": [
      "Model saved as Model_2.pkl\n"
     ]
    }
   ],
   "source": [
    "import joblib\n",
    "\n",
    "# Save the trained model to a .pkl file\n",
    "joblib.dump(model, \"Model_2.pkl\")\n",
    "\n",
    "print(\"Model saved as Model_2.pkl\")"
   ]
  },
  {
   "cell_type": "code",
   "execution_count": 136,
   "metadata": {},
   "outputs": [
    {
     "name": "stdout",
     "output_type": "stream",
     "text": [
      "\n",
      "Updated 2025 games file saved as '2025 Games (Natty) (Model 2).csv' with necessary columns.\n"
     ]
    }
   ],
   "source": [
    "import pandas as pd\n",
    "\n",
    "# Load the 2025 games file\n",
    "file_path = \"2025 Games (Natty).csv\"  \n",
    "data_2025 = pd.read_csv(file_path)\n",
    "\n",
    "# Ensure missing features are recalculated\n",
    "data_2025[\"AdjDE_Diff_Weighted\"] = data_2025[\"AdjDE_Diff\"] * 1.8\n",
    "\n",
    "data_2025[\"Upset_Score\"] = data[\"Upset_Score\"]\n",
    "\n",
    "data_2025[\"Upset_Score2\"] = data[\"Upset_Score2\"]\n",
    "\n",
    "data_2025[\"Net Rating_Diff\"] = data_2025[\"Net Rating_Diff\"] * 0.25\n",
    "\n",
    "data_2025[\"FTRate_Diff\"] = data[\"FTRate_Diff\"]\n",
    "\n",
    "# Save the updated 2025 games file for future use\n",
    "data_2025.to_csv(\"2025 Games (Natty) (Model 2).csv\", index=False)\n",
    "\n",
    "print(\"\\nUpdated 2025 games file saved as '2025 Games (Natty) (Model 2).csv' with necessary columns.\")"
   ]
  },
  {
   "cell_type": "code",
   "execution_count": 137,
   "metadata": {},
   "outputs": [
    {
     "name": "stdout",
     "output_type": "stream",
     "text": [
      "\n",
      "Preview of 2025 Games Data (Only Features for Model Input):\n",
      "   Net Rating_Diff  AdjDE_Diff_Weighted  eFGPct_Diff  TOPct_Diff  ORPct_Diff  \\\n",
      "0            -3.35             14.39784    -1.592122   -1.866433   -10.78072   \n",
      "\n",
      "   FTRate_Diff  Upset_Score  Upset_Score2  \n",
      "0     0.129913  6870.332785   13740.66557  \n"
     ]
    }
   ],
   "source": [
    "\n",
    "import pandas as pd\n",
    "\n",
    "# Load 2025 games file\n",
    "file_path = \"2025 Games (Natty) (Model 2).csv\"  # Update with actual filename\n",
    "data_2025 = pd.read_csv(file_path)\n",
    "\n",
    "# Save a copy of all original columns to merge later\n",
    "extra_columns = data_2025.copy()\n",
    "\n",
    "# Define the feature columns (these are the only ones needed for prediction)\n",
    "features = [\"Net Rating_Diff\", \"AdjDE_Diff_Weighted\",\n",
    "            \"eFGPct_Diff\", \"TOPct_Diff\", \"ORPct_Diff\", \"FTRate_Diff\", \"Upset_Score\", \"Upset_Score2\"]\n",
    "\n",
    "# Select only features for model input\n",
    "X_2025 = data_2025[features]  # Keep only model training features\n",
    "\n",
    "print(\"\\nPreview of 2025 Games Data (Only Features for Model Input):\")\n",
    "print(X_2025.head())"
   ]
  },
  {
   "cell_type": "code",
   "execution_count": 117,
   "metadata": {},
   "outputs": [
    {
     "name": "stdout",
     "output_type": "stream",
     "text": [
      "\n",
      "Predictions saved to Round of 64 Predictions.csv\n",
      "\n",
      "Sample Predictions:\n",
      "   Season  GameID        Team              VS  TeamID  OpponentID  \\\n",
      "0    2025     100      Auburn   Alabama State    1120        1106   \n",
      "1    2025     101  Louisville       Creighton    1257        1166   \n",
      "2    2025     102    Michigan    UC San Diego    1276        1895   \n",
      "3    2025     103   Texas A&M            Yale    1401        1463   \n",
      "4    2025     104    Ole Miss  North Carolina    1279        1314   \n",
      "\n",
      "   Net Rating_Diff  AdjEM_Diff  AdjOE_Diff  AdjDE_Diff  eFGPct_Diff  \\\n",
      "0             39.3     44.2735      27.051    -17.2227     8.655488   \n",
      "1             10.8      3.9440       1.209     -2.7352    -2.401549   \n",
      "2             37.8      3.0433       1.497     -1.5462    -0.480343   \n",
      "3             19.5     13.1372       1.837    -11.3005    -7.064508   \n",
      "4             19.2      2.5359      -1.016     -3.5525    -3.086400   \n",
      "\n",
      "   TOPct_Diff  ORPct_Diff  FTRate_Diff  Win  AdjDE_Diff_Weighted  \\\n",
      "0    0.124167    6.085104     0.129913  NaN            -31.00086   \n",
      "1   -1.579070    5.300557     0.400444  NaN             -4.92336   \n",
      "2    6.599155    8.104628     0.072119  NaN             -2.78316   \n",
      "3    3.407327    8.416154     0.546206  NaN            -20.34090   \n",
      "4   -2.362040   -3.861892    -0.043381  NaN             -6.39450   \n",
      "\n",
      "    Upset_Score  Upset_Score2  Predicted_Win  \n",
      "0   6870.332785  13740.665570            1.0  \n",
      "1   1368.138058   2736.276115            1.0  \n",
      "2  14462.676527  28925.353055            1.0  \n",
      "3    745.977542   1491.955085            1.0  \n",
      "4    814.053167   1628.106335            1.0  \n"
     ]
    }
   ],
   "source": [
    "##RUN MODEL FOR ROUND OF 64\n",
    "\n",
    "# Load the trained model\n",
    "model = joblib.load(\"Model_2.pkl\")\n",
    "\n",
    "# Load the 2025 games file\n",
    "file_path = \"2025 Games (Round of 64) (Model 2).csv\"  \n",
    "data_2025 = pd.read_csv(file_path)\n",
    "\n",
    "# Ensure only the features used in training are selected\n",
    "X_2025 = data_2025[features]  # Use the existing `features` variable\n",
    "\n",
    "# Predict game outcomes\n",
    "data_2025[\"Predicted_Win\"] = model.predict(X_2025)\n",
    "\n",
    "# Save predictions to a new file\n",
    "output_file = \"Round of 64 Predictions.csv\"\n",
    "data_2025.to_csv(output_file, index=False)\n",
    "\n",
    "# Display a sample of predictions\n",
    "print(f\"\\nPredictions saved to {output_file}\")\n",
    "print(\"\\nSample Predictions:\")\n",
    "print(data_2025.head())"
   ]
  },
  {
   "cell_type": "code",
   "execution_count": 120,
   "metadata": {},
   "outputs": [
    {
     "name": "stdout",
     "output_type": "stream",
     "text": [
      "\n",
      "Predictions saved to Round of 32 Predictions.csv\n",
      "\n",
      "Sample Predictions:\n",
      "   Season  GameID       Team          VS  TeamID  OpponentID  Net Rating_Diff  \\\n",
      "0    2025     100     Auburn  Louisville    1120        1106             39.3   \n",
      "1    2025     101   Michigan   Texas A&M    1257        1166             10.8   \n",
      "2    2025     102   Ole Miss  Iowa State    1276        1895             37.8   \n",
      "3    2025     103  Marquette      Bryant    1401        1463             19.5   \n",
      "4    2025     104    Florida    Oklahoma    1279        1314             19.2   \n",
      "\n",
      "   AdjEM_Diff  AdjOE_Diff  AdjDE_Diff  eFGPct_Diff  TOPct_Diff  ORPct_Diff  \\\n",
      "0    12.39200      10.328     -2.0638     2.341799   -3.150100    2.113631   \n",
      "1    -2.25340       0.506      2.7596     7.475275    1.892816   -8.309395   \n",
      "2    -4.92760      -1.586      3.3417    -3.477828   -4.134462   -6.815349   \n",
      "3    20.41024      10.970     -9.4397     1.047408   -3.004216   -4.083365   \n",
      "4    17.48080       8.876     -8.6044     0.208263   -2.142688   11.543938   \n",
      "\n",
      "   FTRate_Diff  AdjDE_Diff_Weighted   Upset_Score  Upset_Score2  Predicted_Win  \n",
      "0     0.129913             -3.71484   6870.332785  13740.665570            1.0  \n",
      "1     0.400444              4.96728   1368.138058   2736.276115            1.0  \n",
      "2     0.072119              6.01506  14462.676527  28925.353055            1.0  \n",
      "3     0.546206            -16.99146    745.977542   1491.955085            1.0  \n",
      "4    -0.043381            -15.48792    814.053167   1628.106335            1.0  \n"
     ]
    }
   ],
   "source": [
    "##RUN MODEL FOR ROUND OF 32\n",
    "\n",
    "# Load the trained model\n",
    "model = joblib.load(\"Model_2.pkl\")\n",
    "\n",
    "# Load the 2025 games file\n",
    "file_path = \"2025 Games (Round of 32) (Model 2).csv\"  \n",
    "data_2025 = pd.read_csv(file_path)\n",
    "\n",
    "# Ensure only the features used in training are selected\n",
    "X_2025 = data_2025[features]  # Use the existing `features` variable\n",
    "\n",
    "# Predict game outcomes\n",
    "data_2025[\"Predicted_Win\"] = model.predict(X_2025)\n",
    "\n",
    "# Save predictions to a new file\n",
    "output_file = \"Round of 32 Predictions.csv\"\n",
    "data_2025.to_csv(output_file, index=False)\n",
    "\n",
    "# Display a sample of predictions\n",
    "print(f\"\\nPredictions saved to {output_file}\")\n",
    "print(\"\\nSample Predictions:\")\n",
    "print(data_2025.head())"
   ]
  },
  {
   "cell_type": "code",
   "execution_count": 129,
   "metadata": {},
   "outputs": [
    {
     "name": "stdout",
     "output_type": "stream",
     "text": [
      "\n",
      "Predictions saved to Sweet 16 Predictions.csv\n",
      "\n",
      "Sample Predictions:\n",
      "   Season  GameID        Team          VS  TeamID  OpponentID  \\\n",
      "0    2025     100      Auburn    Michigan    1120        1106   \n",
      "1    2025     101    Ole Miss   Marquette    1257        1166   \n",
      "2    2025     102     Florida     Memphis    1276        1895   \n",
      "3    2025     103  Texas Tech  St. John's    1401        1463   \n",
      "4    2025     104        Duke      Oregon    1279        1314   \n",
      "\n",
      "   Net Rating_Diff  AdjEM_Diff  AdjOE_Diff  AdjDE_Diff  eFGPct_Diff  \\\n",
      "0            3.175     13.2184      11.718     -1.5008     0.763556   \n",
      "1            0.100      0.4848       0.202     -0.2832    -0.950668   \n",
      "2            5.225     20.6851      14.636     -6.0491     1.435186   \n",
      "3            0.425      1.6803      11.397      9.7171     5.769780   \n",
      "4            4.525     18.0028      11.356     -6.6473     5.115122   \n",
      "\n",
      "   TOPct_Diff  ORPct_Diff  FTRate_Diff  AdjDE_Diff_Weighted   Upset_Score  \\\n",
      "0   -6.674602    0.608276     0.129913             -2.70144   6870.332785   \n",
      "1   -0.755568   -4.762010     0.400444             -0.50976   1368.138058   \n",
      "2   -4.135838    3.263685     0.072119            -10.88838  14462.676527   \n",
      "3   -0.774719   -3.071684     0.546206             17.49078    745.977542   \n",
      "4   -1.848218    4.627018    -0.043381            -11.96514    814.053167   \n",
      "\n",
      "   Upset_Score2  Predicted_Win  \n",
      "0  13740.665570            1.0  \n",
      "1   2736.276115            1.0  \n",
      "2  28925.353055            1.0  \n",
      "3   1491.955085            0.0  \n",
      "4   1628.106335            1.0  \n"
     ]
    }
   ],
   "source": [
    "##RUN MODEL FOR SWEET 16\n",
    "\n",
    "# Load the trained model\n",
    "model = joblib.load(\"Model_2.pkl\")\n",
    "\n",
    "# Load the 2025 games file\n",
    "file_path = \"2025 Games (Sweet 16) (Model 2).csv\"  \n",
    "data_2025 = pd.read_csv(file_path)\n",
    "\n",
    "# Ensure only the features used in training are selected\n",
    "X_2025 = data_2025[features]  # Use the existing `features` variable\n",
    "\n",
    "# Predict game outcomes\n",
    "data_2025[\"Predicted_Win\"] = model.predict(X_2025)\n",
    "\n",
    "# Save predictions to a new file\n",
    "output_file = \"Sweet 16 Predictions.csv\"\n",
    "data_2025.to_csv(output_file, index=False)\n",
    "\n",
    "# Display a sample of predictions\n",
    "print(f\"\\nPredictions saved to {output_file}\")\n",
    "print(\"\\nSample Predictions:\")\n",
    "print(data_2025.head())"
   ]
  },
  {
   "cell_type": "code",
   "execution_count": 132,
   "metadata": {},
   "outputs": [
    {
     "name": "stdout",
     "output_type": "stream",
     "text": [
      "\n",
      "Predictions saved to Elite 8 Predictions.csv\n",
      "\n",
      "Sample Predictions:\n",
      "   Season  GameID     Team          VS  TeamID  OpponentID  Net Rating_Diff  \\\n",
      "0    2025     100   Auburn    Ole Miss    1120        1106             3.25   \n",
      "1    2025     101  Florida  St. John's    1257        1166             2.45   \n",
      "2    2025     102     Duke         VCU    1276        1895             4.40   \n",
      "3    2025     103  Houston   Tennessee    1401        1463             1.05   \n",
      "\n",
      "   AdjEM_Diff  AdjOE_Diff  AdjDE_Diff  eFGPct_Diff  TOPct_Diff  ORPct_Diff  \\\n",
      "0     12.9659      10.608     -2.3578     4.627256    0.616036    8.989873   \n",
      "1      9.4506      14.000      4.5498     5.465553   -0.437073    0.682409   \n",
      "2     17.4477      11.748     -5.7003     4.928629   -2.132175   -1.492418   \n",
      "3      4.0053       3.288     -0.7173    -0.120678   -1.459650    0.221003   \n",
      "\n",
      "   FTRate_Diff  AdjDE_Diff_Weighted   Upset_Score  Upset_Score2  Predicted_Win  \n",
      "0     0.129913             -4.24404   6870.332785  13740.665570            0.0  \n",
      "1     0.400444              8.18964   1368.138058   2736.276115            1.0  \n",
      "2     0.072119            -10.26054  14462.676527  28925.353055            1.0  \n",
      "3     0.546206             -1.29114    745.977542   1491.955085            1.0  \n"
     ]
    }
   ],
   "source": [
    "##RUN MODEL FOR Elite 8\n",
    "\n",
    "# Load the trained model\n",
    "model = joblib.load(\"Model_2.pkl\")\n",
    "\n",
    "# Load the 2025 games file\n",
    "file_path = \"2025 Games (Elite 8) (Model 2).csv\"  \n",
    "data_2025 = pd.read_csv(file_path)\n",
    "\n",
    "# Ensure only the features used in training are selected\n",
    "X_2025 = data_2025[features]  # Use the existing `features` variable\n",
    "\n",
    "# Predict game outcomes\n",
    "data_2025[\"Predicted_Win\"] = model.predict(X_2025)\n",
    "\n",
    "# Save predictions to a new file\n",
    "output_file = \"Elite 8 Predictions.csv\"\n",
    "data_2025.to_csv(output_file, index=False)\n",
    "\n",
    "# Display a sample of predictions\n",
    "print(f\"\\nPredictions saved to {output_file}\")\n",
    "print(\"\\nSample Predictions:\")\n",
    "print(data_2025.head())"
   ]
  },
  {
   "cell_type": "code",
   "execution_count": 135,
   "metadata": {},
   "outputs": [
    {
     "name": "stdout",
     "output_type": "stream",
     "text": [
      "\n",
      "Predictions saved to Final 4 Predictions.csv\n",
      "\n",
      "Sample Predictions:\n",
      "   Season  GameID      Team       VS  TeamID  OpponentID  Net Rating_Diff  \\\n",
      "0    2025     100  Ole Miss  Florida    1120        1106            -3.55   \n",
      "1    2025     101      Duke  Houston    1257        1166             0.70   \n",
      "\n",
      "   AdjEM_Diff  AdjOE_Diff  AdjDE_Diff  eFGPct_Diff  TOPct_Diff  ORPct_Diff  \\\n",
      "0    -13.7532     -10.041      3.7115    -4.067013   -2.371371  -12.657234   \n",
      "1      2.7079       4.730      2.0217     4.686846   -0.218107   -0.955127   \n",
      "\n",
      "   FTRate_Diff  AdjDE_Diff_Weighted  Upset_Score  Upset_Score2  Predicted_Win  \n",
      "0     0.129913              6.68070  6870.332785  13740.665570            1.0  \n",
      "1     0.400444              3.63906  1368.138058   2736.276115            0.0  \n"
     ]
    }
   ],
   "source": [
    "##RUN MODEL FOR Final 4\n",
    "\n",
    "# Load the trained model\n",
    "model = joblib.load(\"Model_2.pkl\")\n",
    "\n",
    "# Load the 2025 games file\n",
    "file_path = \"2025 Games (Final 4) (Model 2).csv\"  \n",
    "data_2025 = pd.read_csv(file_path)\n",
    "\n",
    "# Ensure only the features used in training are selected\n",
    "X_2025 = data_2025[features]  # Use the existing `features` variable\n",
    "\n",
    "# Predict game outcomes\n",
    "data_2025[\"Predicted_Win\"] = model.predict(X_2025)\n",
    "\n",
    "# Save predictions to a new file\n",
    "output_file = \"Final 4 Predictions.csv\"\n",
    "data_2025.to_csv(output_file, index=False)\n",
    "\n",
    "# Display a sample of predictions\n",
    "print(f\"\\nPredictions saved to {output_file}\")\n",
    "print(\"\\nSample Predictions:\")\n",
    "print(data_2025.head())"
   ]
  },
  {
   "cell_type": "code",
   "execution_count": 138,
   "metadata": {},
   "outputs": [
    {
     "name": "stdout",
     "output_type": "stream",
     "text": [
      "\n",
      "Predictions saved to Natty Predictions.csv\n",
      "\n",
      "Sample Predictions:\n",
      "   Season  GameID      Team       VS  TeamID  OpponentID  Net Rating_Diff  \\\n",
      "0    2025     100  Ole Miss  Houston    1120        1106            -3.35   \n",
      "\n",
      "   AdjEM_Diff  AdjOE_Diff  AdjDE_Diff  eFGPct_Diff  TOPct_Diff  ORPct_Diff  \\\n",
      "0    -13.3713      -5.372      7.9988    -1.592122   -1.866433   -10.78072   \n",
      "\n",
      "   FTRate_Diff  AdjDE_Diff_Weighted  Upset_Score  Upset_Score2  Predicted_Win  \n",
      "0     0.129913             14.39784  6870.332785   13740.66557            1.0  \n"
     ]
    }
   ],
   "source": [
    "##RUN MODEL FOR NATTY\n",
    "\n",
    "# Load the trained model\n",
    "model = joblib.load(\"Model_2.pkl\")\n",
    "\n",
    "# Load the 2025 games file\n",
    "file_path = \"2025 Games (Natty) (Model 2).csv\"  \n",
    "data_2025 = pd.read_csv(file_path)\n",
    "\n",
    "# Ensure only the features used in training are selected\n",
    "X_2025 = data_2025[features]  # Use the existing `features` variable\n",
    "\n",
    "# Predict game outcomes\n",
    "data_2025[\"Predicted_Win\"] = model.predict(X_2025)\n",
    "\n",
    "# Save predictions to a new file\n",
    "output_file = \"Natty Predictions.csv\"\n",
    "data_2025.to_csv(output_file, index=False)\n",
    "\n",
    "# Display a sample of predictions\n",
    "print(f\"\\nPredictions saved to {output_file}\")\n",
    "print(\"\\nSample Predictions:\")\n",
    "print(data_2025.head())"
   ]
  }
 ],
 "metadata": {
  "kernelspec": {
   "display_name": "Python 3",
   "language": "python",
   "name": "python3"
  },
  "language_info": {
   "codemirror_mode": {
    "name": "ipython",
    "version": 3
   },
   "file_extension": ".py",
   "mimetype": "text/x-python",
   "name": "python",
   "nbconvert_exporter": "python",
   "pygments_lexer": "ipython3",
   "version": "3.12.1"
  }
 },
 "nbformat": 4,
 "nbformat_minor": 2
}
