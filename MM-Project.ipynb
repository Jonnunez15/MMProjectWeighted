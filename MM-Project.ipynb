{
 "cells": [
  {
   "cell_type": "code",
   "execution_count": 224,
   "metadata": {},
   "outputs": [],
   "source": [
    "import pandas as pd"
   ]
  },
  {
   "cell_type": "code",
   "execution_count": 225,
   "metadata": {},
   "outputs": [],
   "source": [
    "##Load DataSets\n",
    "team_stats = pd.read_csv(\"DEV _ March Madness Fixed.csv\")\n",
    "game_results = pd.read_csv(\"Game History Fixed.csv\")"
   ]
  },
  {
   "cell_type": "code",
   "execution_count": 226,
   "metadata": {},
   "outputs": [],
   "source": [
    "##Merge team stats from DEV file with Winning teams from Game History file (Merged based on team name)\n",
    "winners = game_results.merge(\n",
    "    team_stats,\n",
    "    left_on=['Season', 'W TEAM'],\n",
    "    right_on=['Season', 'Mapped ESPN Team Name'],\n",
    "    how=\"left\"  # Keep all tournament games, add matching team stats\n",
    ")\n",
    "winners['Win'] = 1  # Mark wins"
   ]
  },
  {
   "cell_type": "code",
   "execution_count": 227,
   "metadata": {},
   "outputs": [],
   "source": [
    "##Merge team stats from DEV file with Losing teams from Game History file (Merged based on team name)\n",
    "losers = game_results.merge(\n",
    "    team_stats,\n",
    "    left_on=['Season', 'L TEAM'],\n",
    "    right_on=['Season', 'Mapped ESPN Team Name'],\n",
    "    how=\"left\"\n",
    ")\n",
    "losers['Win'] = 0  # Mark losses"
   ]
  },
  {
   "cell_type": "code",
   "execution_count": 228,
   "metadata": {},
   "outputs": [],
   "source": [
    "##Concatenate winners and losers into a single file (new row for each team in each game)\n",
    "merged_data = pd.concat([winners, losers], ignore_index=True)\n",
    "\n",
    "# Now, **add back 2025 team stats**, ensuring they stay in the final dataset\n",
    "merged_data = pd.concat([merged_data, team_stats[team_stats[\"Season\"] == 2025]], ignore_index=True)\n",
    "\n",
    "merged_data = merged_data[merged_data[\"Season\"] >= 2008]"
   ]
  },
  {
   "cell_type": "code",
   "execution_count": 229,
   "metadata": {},
   "outputs": [],
   "source": [
    "##Export File as CSV\n",
    "merged_data.to_csv(\"merged_MM_data.csv\", index=False)"
   ]
  },
  {
   "cell_type": "code",
   "execution_count": 230,
   "metadata": {},
   "outputs": [],
   "source": [
    "##Define Tournament Rounds\n",
    "tournament_rounds = {0: \"First Four\", 1 : \"Round of 64\", 2 : \"Round of 32\", 3 : \"Sweet 16\", 4 : \"Elite 8\", 5: \"Final 4\", 6 : \"National Championship\"}"
   ]
  },
  {
   "cell_type": "code",
   "execution_count": 231,
   "metadata": {},
   "outputs": [],
   "source": [
    "# Replace NaN in \"Round\" with -1 (indicating no tournament round played)\n",
    "merged_data[\"Round\"] = merged_data[\"Round\"].fillna(-1).astype(int)\n",
    "\n",
    "\n",
    "##make sure \"Round\" is an integer\n",
    "merged_data[\"Round\"] = merged_data[\"Round\"].astype(int)\n",
    "\n",
    "##find max round each team reached in a given season\n",
    "team_ceiling = merged_data.groupby(['Season', 'Mapped ESPN Team Name'])['Round'].max().reset_index()\n",
    "\n",
    "##rename column\n",
    "team_ceiling.rename(columns={\"Round\": 'Max_Round_Reached'}, inplace=True)\n",
    "\n",
    "##merge back into dataset\n",
    "merged_data = merged_data.merge(team_ceiling, on=['Season', 'Mapped ESPN Team Name'], how='left')\n",
    "\n",
    "##Save to csv for observation\n",
    "merged_data.to_csv(\"Merged_data_with_Team_Ceilings.csv\", index=False)"
   ]
  },
  {
   "cell_type": "code",
   "execution_count": 232,
   "metadata": {},
   "outputs": [
    {
     "name": "stdout",
     "output_type": "stream",
     "text": [
      "      Season     Mapped ESPN Team Name  Round  Max_Round_Reached\n",
      "0       2008          Mount St. Mary's      0                1.0\n",
      "1       2009            Morehead State      0                1.0\n",
      "2       2010            Morehead State      0                0.0\n",
      "3       2011                   Clemson      0                1.0\n",
      "4       2011             UNC Asheville      0                1.0\n",
      "...      ...                       ...    ...                ...\n",
      "2484    2025               Alabama A&M     -1               -1.0\n",
      "2485    2025              Coppin State     -1               -1.0\n",
      "2486    2025             Chicago State     -1               -1.0\n",
      "2487    2025       Arkansas-Pine Bluff     -1               -1.0\n",
      "2488    2025  Mississippi Valley State     -1               -1.0\n",
      "\n",
      "[2464 rows x 4 columns]\n"
     ]
    }
   ],
   "source": [
    "##Display the data set with round advancements\n",
    "print(merged_data[['Season', \"Mapped ESPN Team Name\", 'Round', 'Max_Round_Reached']].drop_duplicates())"
   ]
  },
  {
   "cell_type": "code",
   "execution_count": 233,
   "metadata": {},
   "outputs": [],
   "source": [
    "##Add in Round Names as a new column\n",
    "merged_data[\"Round_Name\"] = merged_data[\"Round\"].map(tournament_rounds)\n",
    "merged_data[\"Max_Round_Reached_Name\"] = merged_data[\"Max_Round_Reached\"].map(tournament_rounds)"
   ]
  },
  {
   "cell_type": "code",
   "execution_count": 234,
   "metadata": {},
   "outputs": [],
   "source": [
    "merged_data.to_csv(\"Updated & Merged Data.csv\", index=False)"
   ]
  },
  {
   "cell_type": "code",
   "execution_count": 235,
   "metadata": {},
   "outputs": [
    {
     "name": "stdout",
     "output_type": "stream",
     "text": [
      "      Season     Mapped ESPN Team Name Max_Round_Reached_Name\n",
      "0       2008          Mount St. Mary's            Round of 64\n",
      "1       2009            Morehead State            Round of 64\n",
      "2       2010            Morehead State             First Four\n",
      "3       2011                   Clemson            Round of 64\n",
      "4       2011             UNC Asheville            Round of 64\n",
      "...      ...                       ...                    ...\n",
      "2484    2025               Alabama A&M                    NaN\n",
      "2485    2025              Coppin State                    NaN\n",
      "2486    2025             Chicago State                    NaN\n",
      "2487    2025       Arkansas-Pine Bluff                    NaN\n",
      "2488    2025  Mississippi Valley State                    NaN\n",
      "\n",
      "[1442 rows x 3 columns]\n"
     ]
    }
   ],
   "source": [
    "print(merged_data[['Season', 'Mapped ESPN Team Name', 'Max_Round_Reached_Name']].drop_duplicates())"
   ]
  },
  {
   "cell_type": "code",
   "execution_count": 236,
   "metadata": {},
   "outputs": [],
   "source": [
    "import matplotlib.pyplot as plt\n",
    "import seaborn as sns"
   ]
  },
  {
   "cell_type": "code",
   "execution_count": 237,
   "metadata": {},
   "outputs": [],
   "source": [
    "##Read the new file\n",
    "merged_data = pd.read_csv(\"Updated & Merged Data.csv\")"
   ]
  },
  {
   "cell_type": "code",
   "execution_count": 238,
   "metadata": {},
   "outputs": [],
   "source": [
    "##Select only numeric collumns (we want to find correlations between deep runs and certain team stats)\n",
    "merged_data[\"Max_Round_Reached\"] = merged_data[\"Max_Round_Reached\"].astype(float)\n",
    "\n",
    "numeric_columns = merged_data.select_dtypes(include=['number'])\n",
    "\n",
    "##remove \"round\", \"win\" & \"daynum\" from analysis as it will have near perfect correlation and isnt a 'stat'\n",
    "numeric_columns = numeric_columns.drop(columns=[\"Round\"], errors=\"ignore\")\n",
    "numeric_columns = numeric_columns.drop(columns=[\"DayNum\"], errors=\"ignore\")\n",
    "numeric_columns = numeric_columns.drop(columns=[\"Win\"], errors=\"ignore\")\n"
   ]
  },
  {
   "cell_type": "code",
   "execution_count": 239,
   "metadata": {},
   "outputs": [],
   "source": [
    "##Find & Sort correlations\n",
    "correlations = numeric_columns.corr()[\"Max_Round_Reached\"].drop(\"Max_Round_Reached\")\n",
    "\n",
    "correlations = correlations.sort_values(ascending=False)"
   ]
  },
  {
   "cell_type": "code",
   "execution_count": 240,
   "metadata": {},
   "outputs": [
    {
     "name": "stdout",
     "output_type": "stream",
     "text": [
      "AdjEM                            0.731946\n",
      "Net Rating                       0.731907\n",
      "Adjusted Offensive Efficiency    0.587842\n",
      "AdjOE                            0.586965\n",
      "Raw Offensive Efficiency         0.431552\n",
      "OE                               0.431423\n",
      "ORPct                            0.317392\n",
      "EffectiveHeight                  0.316000\n",
      "FG3Pct                           0.289281\n",
      "CenterHeight                     0.283738\n",
      "eFGPct                           0.282766\n",
      "OppNSTRate                       0.265555\n",
      "PFHeight                         0.257345\n",
      "BlockPct                         0.249853\n",
      "SFHeight                         0.226098\n",
      "Name: Max_Round_Reached, dtype: float64\n",
      "RankDE                                 -0.455165\n",
      "OppFG2Pct                              -0.470152\n",
      "DE                                     -0.529716\n",
      "Raw Defensive Efficiency               -0.529929\n",
      "RankOE                                 -0.549054\n",
      "Raw Offensive Efficiency Rank          -0.549054\n",
      "Post-Season Tournament Sorting Index   -0.584273\n",
      "RankAdjDE                              -0.609669\n",
      "Adjusted Defensive Efficiency Rank     -0.609669\n",
      "Adjusted Offensive Efficiency Rank     -0.610819\n",
      "RankAdjOE                              -0.610819\n",
      "Net Rating Rank                        -0.652426\n",
      "RankAdjEM                              -0.653565\n",
      "Adjusted Defensive Efficiency          -0.671498\n",
      "AdjDE                                  -0.672031\n",
      "Name: Max_Round_Reached, dtype: float64\n"
     ]
    }
   ],
   "source": [
    "print(correlations.head(15))\n",
    "print(correlations.tail(15))"
   ]
  },
  {
   "cell_type": "code",
   "execution_count": 241,
   "metadata": {},
   "outputs": [
    {
     "name": "stderr",
     "output_type": "stream",
     "text": [
      "/tmp/ipykernel_9793/4231976441.py:2: FutureWarning: \n",
      "\n",
      "Passing `palette` without assigning `hue` is deprecated and will be removed in v0.14.0. Assign the `y` variable to `hue` and set `legend=False` for the same effect.\n",
      "\n",
      "  sns.barplot(x=correlations.head(15).values, y=correlations.head(15).index, palette=\"coolwarm\")\n"
     ]
    },
    {
     "data": {
      "image/png": "[encoded data removed]",
      "text/plain": [
       "<Figure size 1000x800 with 1 Axes>"
      ]
     },
     "metadata": {},
     "output_type": "display_data"
    }
   ],
   "source": [
    "plt.figure(figsize=(10, 8))\n",
    "sns.barplot(x=correlations.head(15).values, y=correlations.head(15).index, palette=\"coolwarm\")\n",
    "plt.xlabel(\"Correlation with Max Round Reached\")\n",
    "plt.ylabel(\"Stat name\")\n",
    "plt.title(\"March Madness Stat Correlations\")\n",
    "plt.show()"
   ]
  },
  {
   "cell_type": "code",
   "execution_count": 242,
   "metadata": {},
   "outputs": [
    {
     "name": "stdout",
     "output_type": "stream",
     "text": [
      "      Season        Champion  Net Rating    AdjEM    AdjOE\n",
      "1046    2008          Kansas        35.2  35.2083  120.873\n",
      "1047    2009  North Carolina        31.1  31.1390  123.248\n",
      "1048    2010            Duke        33.3  33.2863  121.003\n",
      "1049    2011           UConn        23.9  23.9329  115.846\n",
      "1050    2012        Kentucky        32.6  32.5881  122.182\n",
      "1051    2013      Louisville        32.9  32.9166  117.680\n",
      "1052    2014           UConn        22.1  22.1300  113.591\n",
      "1053    2015            Duke        32.5  32.4841  124.454\n",
      "1054    2016       Villanova        32.0  32.0092  122.761\n",
      "1055    2017  North Carolina        28.2  28.2180  120.675\n",
      "1056    2018       Villanova        33.8  33.7563  127.756\n",
      "1057    2019        Virginia        34.2  34.2156  123.403\n",
      "1058    2021          Baylor        33.9  33.8670  124.994\n",
      "1059    2022          Kansas        27.5  27.4855  119.187\n",
      "1060    2023           UConn        29.9  29.8627  120.799\n",
      "1061    2024           UConn        36.4  36.4262  127.524\n"
     ]
    }
   ],
   "source": [
    "# Filter only the championship game\n",
    "championship_games = merged_data[merged_data[\"Round\"] == 6]\n",
    "\n",
    "# Keep only the winning team from the championship\n",
    "champions = championship_games[championship_games[\"Win\"] == 1]\n",
    "\n",
    "# Select relevant columns\n",
    "champion_stats = champions[[\"Season\", \"W TEAM\", \"Net Rating\", \"AdjEM\", \"AdjOE\"]]\n",
    "\n",
    "# Sort by season\n",
    "champion_stats = champion_stats.sort_values(by=\"Season\", ascending=True)\n",
    "\n",
    "# Rename for clarity\n",
    "champion_stats.rename(columns={\"W TEAM\": \"Champion\"}, inplace=True)\n",
    "\n",
    "# Display the past champions’ stats\n",
    "print(champion_stats)"
   ]
  },
  {
   "cell_type": "code",
   "execution_count": 243,
   "metadata": {},
   "outputs": [],
   "source": [
    "##Read the new / updated file\n",
    "data = pd.read_csv(\"Updated & Merged Data.csv\")"
   ]
  },
  {
   "cell_type": "code",
   "execution_count": 244,
   "metadata": {},
   "outputs": [
    {
     "name": "stdout",
     "output_type": "stream",
     "text": [
      "   Season              GameID  TeamID  OpponentID  Win\n",
      "0    2008  2008_1164.0_1291.0  1291.0      1164.0  1.0\n",
      "1    2009  2009_1106.0_1287.0  1287.0      1106.0  1.0\n",
      "2    2010  2010_1115.0_1457.0  1115.0      1457.0  1.0\n",
      "3    2011  2011_1155.0_1412.0  1155.0      1412.0  1.0\n",
      "4    2011  2011_1114.0_1421.0  1421.0      1114.0  1.0\n",
      "5    2011  2011_1106.0_1427.0  1427.0      1106.0  1.0\n",
      "6    2011  2011_1425.0_1433.0  1433.0      1425.0  1.0\n",
      "7    2012  2012_1140.0_1233.0  1140.0      1233.0  1.0\n",
      "8    2012  2012_1290.0_1443.0  1443.0      1290.0  1.0\n",
      "9    2012  2012_1143.0_1378.0  1378.0      1143.0  1.0\n"
     ]
    }
   ],
   "source": [
    "# Create a unique Game ID\n",
    "data[\"GameID\"] = data.apply(lambda row: f\"{row['Season']}_{min(row['WTeamID'], row['LTeamID'])}_{max(row['WTeamID'], row['LTeamID'])}\", axis=1)\n",
    "\n",
    "# Create a \"TeamID\" column (which represents the team in that row)\n",
    "data[\"TeamID\"] = data.apply(lambda row: row[\"WTeamID\"] if row[\"Win\"] == 1 else row[\"LTeamID\"], axis=1)\n",
    "\n",
    "# Create an \"OpponentID\" column (the opposite team in that game)\n",
    "data[\"OpponentID\"] = data.apply(lambda row: row[\"LTeamID\"] if row[\"Win\"] == 1 else row[\"WTeamID\"], axis=1)\n",
    "\n",
    "# Save updated dataset for verification\n",
    "data.to_csv(\"Updated_Merged_With_GameID.csv\", index=False)\n",
    "\n",
    "# Verify the structure\n",
    "print(data[[\"Season\", \"GameID\", \"TeamID\", \"OpponentID\", \"Win\"]].head(10))"
   ]
  },
  {
   "cell_type": "code",
   "execution_count": 245,
   "metadata": {},
   "outputs": [
    {
     "name": "stdout",
     "output_type": "stream",
     "text": [
      "\n",
      "Win column breakdown:\n",
      "Win\n",
      "1.0    1063\n",
      "0.0    1063\n",
      "Name: count, dtype: int64\n",
      "Final dataset preview:\n",
      "   Season  Win  Net Rating_Diff  AdjEM_Diff  AdjOE_Diff  AdjDE_Diff  \\\n",
      "0    2008  1.0             13.1   13.082310      6.9263     -6.1560   \n",
      "1    2009  1.0              3.6    3.736331      1.3810     -2.3560   \n",
      "2    2010  1.0             12.6   12.628230     14.4391      1.8111   \n",
      "3    2011  1.0              6.5    6.521400      0.7930     -5.7285   \n",
      "4    2011  1.0              6.4    6.433560      0.8600     -5.5740   \n",
      "\n",
      "   eFGPct_Diff  TOPct_Diff  ORPct_Diff  FTRate_Diff  \n",
      "0       6.3311     -1.0333     -1.5717       2.0786  \n",
      "1      -3.2855      4.0136      6.1819       6.4071  \n",
      "2       9.4756      4.8473      5.8754       1.1539  \n",
      "3      -0.4799      0.5856      0.2855       8.7393  \n",
      "4       1.0630      3.2244      2.9001      -0.6941  \n"
     ]
    }
   ],
   "source": [
    "# Merge dataset with itself to add opponent stats\n",
    "data_with_opponent = data.merge(\n",
    "    data,\n",
    "    left_on=[\"GameID\", \"OpponentID\"],  # Match by GameID and OpponentID\n",
    "    right_on=[\"GameID\", \"TeamID\"],  # Find the opponent's row\n",
    "    suffixes=(\"\", \"_opp\")  # Opponent stats get \"_opp\" suffix\n",
    ")\n",
    "\n",
    "# Define stats to compute differences\n",
    "features = [\"Net Rating\", \"AdjEM\", \"AdjOE\", \"AdjDE\", \"eFGPct\", \"TOPct\", \"ORPct\", \"FTRate\"]\n",
    "\n",
    "# Compute stat differences (Team Stat - Opponent Stat)\n",
    "for feature in features:\n",
    "    data_with_opponent[f\"{feature}_Diff\"] = data_with_opponent[feature] - data_with_opponent[f\"{feature}_opp\"]\n",
    "\n",
    "# Keep only relevant columns\n",
    "model_data = data_with_opponent[[\"Season\", \"Win\"] + [f\"{feat}_Diff\" for feat in features]].copy()\n",
    "\n",
    "# Save the final dataset\n",
    "model_data.to_csv(\"model_ready_data_two_rows_per_game.csv\", index=False)\n",
    "\n",
    "# Verify Win column has both 1s and 0s\n",
    "print(\"\\nWin column breakdown:\")\n",
    "print(model_data[\"Win\"].value_counts())\n",
    "\n",
    "# Display a preview\n",
    "print(\"Final dataset preview:\")\n",
    "print(model_data.head())"
   ]
  },
  {
   "cell_type": "code",
   "execution_count": 246,
   "metadata": {},
   "outputs": [],
   "source": [
    "from sklearn.model_selection import train_test_split\n",
    "import pandas as pd"
   ]
  },
  {
   "cell_type": "code",
   "execution_count": 247,
   "metadata": {},
   "outputs": [
    {
     "name": "stdout",
     "output_type": "stream",
     "text": [
      "\n",
      "Win column in Training Set:\n",
      "Win\n",
      "1.0    850\n",
      "0.0    850\n",
      "Name: count, dtype: int64\n",
      "\n",
      "Win column in Test Set:\n",
      "Win\n",
      "1.0    213\n",
      "0.0    213\n",
      "Name: count, dtype: int64\n"
     ]
    }
   ],
   "source": [
    "# Load the cleaned dataset\n",
    "file_path = \"model_ready_data_two_rows_per_game.csv\"\n",
    "data = pd.read_csv(file_path)\n",
    "\n",
    "# Define the features (everything except 'Win' and 'Season')\n",
    "features = [col for col in data.columns if col not in [\"Win\", \"Season\"]]\n",
    "\n",
    "# Split into training and test sets (2008-2024 for training)\n",
    "train_data = data[data[\"Season\"] < 2025]\n",
    "X_train, X_test, y_train, y_test = train_test_split(\n",
    "    train_data[features], train_data[\"Win\"], test_size=0.2, random_state=42, stratify=train_data[\"Win\"]\n",
    ")\n",
    "\n",
    "# Verify that the split is balanced\n",
    "print(\"\\nWin column in Training Set:\")\n",
    "print(y_train.value_counts())\n",
    "print(\"\\nWin column in Test Set:\")\n",
    "print(y_test.value_counts())"
   ]
  },
  {
   "cell_type": "markdown",
   "metadata": {},
   "source": [
    "ALTERNATIVE METHOD"
   ]
  },
  {
   "cell_type": "code",
   "execution_count": 248,
   "metadata": {},
   "outputs": [
    {
     "name": "stdout",
     "output_type": "stream",
     "text": [
      "Total upsets found: 104\n",
      "\n",
      "Average stat differences in all games vs. upsets:\n",
      "                All Games  Upset Games\n",
      "AdjEM_Diff  -1.081043e-15    -9.964231\n",
      "AdjOE_Diff  -5.405213e-17    -5.958063\n",
      "AdjDE_Diff  -2.162085e-16     4.006247\n",
      "eFGPct_Diff  2.162085e-16    -1.655605\n",
      "TOPct_Diff   6.756517e-17     0.582496\n",
      "ORPct_Diff  -2.432346e-16    -2.170105\n",
      "FTRate_Diff -1.351303e-17     0.106971\n"
     ]
    }
   ],
   "source": [
    "# Load dataset\n",
    "file_path = \"model_ready_data_two_rows_per_game.csv\"\n",
    "data = pd.read_csv(file_path)\n",
    "\n",
    "# Define what constitutes an upset:\n",
    "# - The winning team had a significantly worse Net Rating than the loser\n",
    "# - Example threshold: Net Rating Difference < -5 (adjust as needed)\n",
    "upset_games = data[(data[\"Win\"] == 1) & (data[\"Net Rating_Diff\"] < -5)]\n",
    "\n",
    "# Check how many upsets we have\n",
    "print(f\"Total upsets found: {len(upset_games)}\")\n",
    "\n",
    "# Analyze which stats are different in upsets\n",
    "upset_feature_means = upset_games[\n",
    "    [\"AdjEM_Diff\", \"AdjOE_Diff\", \"AdjDE_Diff\", \"eFGPct_Diff\", \"TOPct_Diff\", \"ORPct_Diff\", \"FTRate_Diff\"]\n",
    "].mean()\n",
    "\n",
    "# Compare to all games (to see what is unique about upsets)\n",
    "all_games_means = data[\n",
    "    [\"AdjEM_Diff\", \"AdjOE_Diff\", \"AdjDE_Diff\", \"eFGPct_Diff\", \"TOPct_Diff\", \"ORPct_Diff\", \"FTRate_Diff\"]\n",
    "].mean()\n",
    "\n",
    "# Display the differences\n",
    "print(\"\\nAverage stat differences in all games vs. upsets:\")\n",
    "comparison = pd.DataFrame({\"All Games\": all_games_means, \"Upset Games\": upset_feature_means})\n",
    "print(comparison)\n",
    "\n",
    "# Save the upset data for further analysis\n",
    "upset_games.to_csv(\"upset_games_analysis2.csv\", index=False)"
   ]
  },
  {
   "cell_type": "code",
   "execution_count": 249,
   "metadata": {},
   "outputs": [],
   "source": [
    "# Increase weight of AdjDE_Diff\n",
    "data[\"AdjDE_Diff_Weighted\"] = data[\"AdjDE_Diff\"] * 1.6  # Adjust weight as needed\n",
    "\n",
    "# Create an \"Upset Factor\" feature (combining key upset indicators)\n",
    "data[\"Upset_Score\"] = (data[\"AdjDE_Diff\"] * 1.6) + (data[\"TOPct_Diff\"] * 1.4) + (data[\"FTRate_Diff\"] * 1.7) + (data[\"AdjEM_Diff\"] * 0.5) + (data[\"AdjOE_Diff\"] * 0.5)\n",
    "\n",
    "# Include these new features in training\n",
    "features = [\"Net Rating_Diff\", \"AdjEM_Diff\", \"AdjOE_Diff\", \"AdjDE_Diff_Weighted\",\n",
    "            \"eFGPct_Diff\", \"TOPct_Diff\", \"ORPct_Diff\", \"FTRate_Diff\", \"Upset_Score\"]"
   ]
  },
  {
   "cell_type": "code",
   "execution_count": 250,
   "metadata": {},
   "outputs": [
    {
     "name": "stdout",
     "output_type": "stream",
     "text": [
      "\n",
      "Updated Model Accuracy: 0.744131455399061\n",
      "\n",
      "Classification Report:\n",
      "              precision    recall  f1-score   support\n",
      "\n",
      "         0.0       0.73      0.78      0.75       213\n",
      "         1.0       0.77      0.70      0.73       213\n",
      "\n",
      "    accuracy                           0.74       426\n",
      "   macro avg       0.75      0.74      0.74       426\n",
      "weighted avg       0.75      0.74      0.74       426\n",
      "\n"
     ]
    }
   ],
   "source": [
    "from sklearn.ensemble import RandomForestClassifier\n",
    "from sklearn.model_selection import train_test_split\n",
    "from sklearn.metrics import accuracy_score, classification_report\n",
    "\n",
    "# Split dataset (train on 2008-2024, test on past seasons)\n",
    "train_data = data[data[\"Season\"] < 2025]\n",
    "X_train, X_test, y_train, y_test = train_test_split(\n",
    "    train_data[features], train_data[\"Win\"], test_size=0.2, random_state=42, stratify=train_data[\"Win\"]\n",
    ")\n",
    "\n",
    "# Train the updated model\n",
    "model = RandomForestClassifier(n_estimators=200, random_state=42)\n",
    "model.fit(X_train, y_train)\n",
    "\n",
    "# Evaluate the updated model\n",
    "y_pred = model.predict(X_test)\n",
    "print(\"\\nUpdated Model Accuracy:\", accuracy_score(y_test, y_pred))\n",
    "print(\"\\nClassification Report:\")\n",
    "print(classification_report(y_test, y_pred))"
   ]
  },
  {
   "cell_type": "code",
   "execution_count": 251,
   "metadata": {},
   "outputs": [
    {
     "ename": "FileNotFoundError",
     "evalue": "[Errno 2] No such file or directory: '2025 Games for Model Prediction.csv'",
     "output_type": "error",
     "traceback": [
      "\u001b[0;31m---------------------------------------------------------------------------\u001b[0m",
      "\u001b[0;31mFileNotFoundError\u001b[0m                         Traceback (most recent call last)",
      "Cell \u001b[0;32mIn[251], line 5\u001b[0m\n\u001b[1;32m      3\u001b[0m \u001b[38;5;66;03m# Load 2025 games file\u001b[39;00m\n\u001b[1;32m      4\u001b[0m file_path \u001b[38;5;241m=\u001b[39m \u001b[38;5;124m\"\u001b[39m\u001b[38;5;124m2025 Games for Model Prediction.csv\u001b[39m\u001b[38;5;124m\"\u001b[39m  \u001b[38;5;66;03m# Update with actual filename\u001b[39;00m\n\u001b[0;32m----> 5\u001b[0m data_2025 \u001b[38;5;241m=\u001b[39m \u001b[43mpd\u001b[49m\u001b[38;5;241;43m.\u001b[39;49m\u001b[43mread_csv\u001b[49m\u001b[43m(\u001b[49m\u001b[43mfile_path\u001b[49m\u001b[43m)\u001b[49m\n\u001b[1;32m      7\u001b[0m \u001b[38;5;66;03m# Save a copy of all original columns to merge later\u001b[39;00m\n\u001b[1;32m      8\u001b[0m extra_columns \u001b[38;5;241m=\u001b[39m data_2025\u001b[38;5;241m.\u001b[39mcopy()\n",
      "File \u001b[0;32m~/.local/lib/python3.12/site-packages/pandas/io/parsers/readers.py:1026\u001b[0m, in \u001b[0;36mread_csv\u001b[0;34m(filepath_or_buffer, sep, delimiter, header, names, index_col, usecols, dtype, engine, converters, true_values, false_values, skipinitialspace, skiprows, skipfooter, nrows, na_values, keep_default_na, na_filter, verbose, skip_blank_lines, parse_dates, infer_datetime_format, keep_date_col, date_parser, date_format, dayfirst, cache_dates, iterator, chunksize, compression, thousands, decimal, lineterminator, quotechar, quoting, doublequote, escapechar, comment, encoding, encoding_errors, dialect, on_bad_lines, delim_whitespace, low_memory, memory_map, float_precision, storage_options, dtype_backend)\u001b[0m\n\u001b[1;32m   1013\u001b[0m kwds_defaults \u001b[38;5;241m=\u001b[39m _refine_defaults_read(\n\u001b[1;32m   1014\u001b[0m     dialect,\n\u001b[1;32m   1015\u001b[0m     delimiter,\n\u001b[0;32m   (...)\u001b[0m\n\u001b[1;32m   1022\u001b[0m     dtype_backend\u001b[38;5;241m=\u001b[39mdtype_backend,\n\u001b[1;32m   1023\u001b[0m )\n\u001b[1;32m   1024\u001b[0m kwds\u001b[38;5;241m.\u001b[39mupdate(kwds_defaults)\n\u001b[0;32m-> 1026\u001b[0m \u001b[38;5;28;01mreturn\u001b[39;00m \u001b[43m_read\u001b[49m\u001b[43m(\u001b[49m\u001b[43mfilepath_or_buffer\u001b[49m\u001b[43m,\u001b[49m\u001b[43m \u001b[49m\u001b[43mkwds\u001b[49m\u001b[43m)\u001b[49m\n",
      "File \u001b[0;32m~/.local/lib/python3.12/site-packages/pandas/io/parsers/readers.py:620\u001b[0m, in \u001b[0;36m_read\u001b[0;34m(filepath_or_buffer, kwds)\u001b[0m\n\u001b[1;32m    617\u001b[0m _validate_names(kwds\u001b[38;5;241m.\u001b[39mget(\u001b[38;5;124m\"\u001b[39m\u001b[38;5;124mnames\u001b[39m\u001b[38;5;124m\"\u001b[39m, \u001b[38;5;28;01mNone\u001b[39;00m))\n\u001b[1;32m    619\u001b[0m \u001b[38;5;66;03m# Create the parser.\u001b[39;00m\n\u001b[0;32m--> 620\u001b[0m parser \u001b[38;5;241m=\u001b[39m \u001b[43mTextFileReader\u001b[49m\u001b[43m(\u001b[49m\u001b[43mfilepath_or_buffer\u001b[49m\u001b[43m,\u001b[49m\u001b[43m \u001b[49m\u001b[38;5;241;43m*\u001b[39;49m\u001b[38;5;241;43m*\u001b[39;49m\u001b[43mkwds\u001b[49m\u001b[43m)\u001b[49m\n\u001b[1;32m    622\u001b[0m \u001b[38;5;28;01mif\u001b[39;00m chunksize \u001b[38;5;129;01mor\u001b[39;00m iterator:\n\u001b[1;32m    623\u001b[0m     \u001b[38;5;28;01mreturn\u001b[39;00m parser\n",
      "File \u001b[0;32m~/.local/lib/python3.12/site-packages/pandas/io/parsers/readers.py:1620\u001b[0m, in \u001b[0;36mTextFileReader.__init__\u001b[0;34m(self, f, engine, **kwds)\u001b[0m\n\u001b[1;32m   1617\u001b[0m     \u001b[38;5;28mself\u001b[39m\u001b[38;5;241m.\u001b[39moptions[\u001b[38;5;124m\"\u001b[39m\u001b[38;5;124mhas_index_names\u001b[39m\u001b[38;5;124m\"\u001b[39m] \u001b[38;5;241m=\u001b[39m kwds[\u001b[38;5;124m\"\u001b[39m\u001b[38;5;124mhas_index_names\u001b[39m\u001b[38;5;124m\"\u001b[39m]\n\u001b[1;32m   1619\u001b[0m \u001b[38;5;28mself\u001b[39m\u001b[38;5;241m.\u001b[39mhandles: IOHandles \u001b[38;5;241m|\u001b[39m \u001b[38;5;28;01mNone\u001b[39;00m \u001b[38;5;241m=\u001b[39m \u001b[38;5;28;01mNone\u001b[39;00m\n\u001b[0;32m-> 1620\u001b[0m \u001b[38;5;28mself\u001b[39m\u001b[38;5;241m.\u001b[39m_engine \u001b[38;5;241m=\u001b[39m \u001b[38;5;28;43mself\u001b[39;49m\u001b[38;5;241;43m.\u001b[39;49m\u001b[43m_make_engine\u001b[49m\u001b[43m(\u001b[49m\u001b[43mf\u001b[49m\u001b[43m,\u001b[49m\u001b[43m \u001b[49m\u001b[38;5;28;43mself\u001b[39;49m\u001b[38;5;241;43m.\u001b[39;49m\u001b[43mengine\u001b[49m\u001b[43m)\u001b[49m\n",
      "File \u001b[0;32m~/.local/lib/python3.12/site-packages/pandas/io/parsers/readers.py:1880\u001b[0m, in \u001b[0;36mTextFileReader._make_engine\u001b[0;34m(self, f, engine)\u001b[0m\n\u001b[1;32m   1878\u001b[0m     \u001b[38;5;28;01mif\u001b[39;00m \u001b[38;5;124m\"\u001b[39m\u001b[38;5;124mb\u001b[39m\u001b[38;5;124m\"\u001b[39m \u001b[38;5;129;01mnot\u001b[39;00m \u001b[38;5;129;01min\u001b[39;00m mode:\n\u001b[1;32m   1879\u001b[0m         mode \u001b[38;5;241m+\u001b[39m\u001b[38;5;241m=\u001b[39m \u001b[38;5;124m\"\u001b[39m\u001b[38;5;124mb\u001b[39m\u001b[38;5;124m\"\u001b[39m\n\u001b[0;32m-> 1880\u001b[0m \u001b[38;5;28mself\u001b[39m\u001b[38;5;241m.\u001b[39mhandles \u001b[38;5;241m=\u001b[39m \u001b[43mget_handle\u001b[49m\u001b[43m(\u001b[49m\n\u001b[1;32m   1881\u001b[0m \u001b[43m    \u001b[49m\u001b[43mf\u001b[49m\u001b[43m,\u001b[49m\n\u001b[1;32m   1882\u001b[0m \u001b[43m    \u001b[49m\u001b[43mmode\u001b[49m\u001b[43m,\u001b[49m\n\u001b[1;32m   1883\u001b[0m \u001b[43m    \u001b[49m\u001b[43mencoding\u001b[49m\u001b[38;5;241;43m=\u001b[39;49m\u001b[38;5;28;43mself\u001b[39;49m\u001b[38;5;241;43m.\u001b[39;49m\u001b[43moptions\u001b[49m\u001b[38;5;241;43m.\u001b[39;49m\u001b[43mget\u001b[49m\u001b[43m(\u001b[49m\u001b[38;5;124;43m\"\u001b[39;49m\u001b[38;5;124;43mencoding\u001b[39;49m\u001b[38;5;124;43m\"\u001b[39;49m\u001b[43m,\u001b[49m\u001b[43m \u001b[49m\u001b[38;5;28;43;01mNone\u001b[39;49;00m\u001b[43m)\u001b[49m\u001b[43m,\u001b[49m\n\u001b[1;32m   1884\u001b[0m \u001b[43m    \u001b[49m\u001b[43mcompression\u001b[49m\u001b[38;5;241;43m=\u001b[39;49m\u001b[38;5;28;43mself\u001b[39;49m\u001b[38;5;241;43m.\u001b[39;49m\u001b[43moptions\u001b[49m\u001b[38;5;241;43m.\u001b[39;49m\u001b[43mget\u001b[49m\u001b[43m(\u001b[49m\u001b[38;5;124;43m\"\u001b[39;49m\u001b[38;5;124;43mcompression\u001b[39;49m\u001b[38;5;124;43m\"\u001b[39;49m\u001b[43m,\u001b[49m\u001b[43m \u001b[49m\u001b[38;5;28;43;01mNone\u001b[39;49;00m\u001b[43m)\u001b[49m\u001b[43m,\u001b[49m\n\u001b[1;32m   1885\u001b[0m \u001b[43m    \u001b[49m\u001b[43mmemory_map\u001b[49m\u001b[38;5;241;43m=\u001b[39;49m\u001b[38;5;28;43mself\u001b[39;49m\u001b[38;5;241;43m.\u001b[39;49m\u001b[43moptions\u001b[49m\u001b[38;5;241;43m.\u001b[39;49m\u001b[43mget\u001b[49m\u001b[43m(\u001b[49m\u001b[38;5;124;43m\"\u001b[39;49m\u001b[38;5;124;43mmemory_map\u001b[39;49m\u001b[38;5;124;43m\"\u001b[39;49m\u001b[43m,\u001b[49m\u001b[43m \u001b[49m\u001b[38;5;28;43;01mFalse\u001b[39;49;00m\u001b[43m)\u001b[49m\u001b[43m,\u001b[49m\n\u001b[1;32m   1886\u001b[0m \u001b[43m    \u001b[49m\u001b[43mis_text\u001b[49m\u001b[38;5;241;43m=\u001b[39;49m\u001b[43mis_text\u001b[49m\u001b[43m,\u001b[49m\n\u001b[1;32m   1887\u001b[0m \u001b[43m    \u001b[49m\u001b[43merrors\u001b[49m\u001b[38;5;241;43m=\u001b[39;49m\u001b[38;5;28;43mself\u001b[39;49m\u001b[38;5;241;43m.\u001b[39;49m\u001b[43moptions\u001b[49m\u001b[38;5;241;43m.\u001b[39;49m\u001b[43mget\u001b[49m\u001b[43m(\u001b[49m\u001b[38;5;124;43m\"\u001b[39;49m\u001b[38;5;124;43mencoding_errors\u001b[39;49m\u001b[38;5;124;43m\"\u001b[39;49m\u001b[43m,\u001b[49m\u001b[43m \u001b[49m\u001b[38;5;124;43m\"\u001b[39;49m\u001b[38;5;124;43mstrict\u001b[39;49m\u001b[38;5;124;43m\"\u001b[39;49m\u001b[43m)\u001b[49m\u001b[43m,\u001b[49m\n\u001b[1;32m   1888\u001b[0m \u001b[43m    \u001b[49m\u001b[43mstorage_options\u001b[49m\u001b[38;5;241;43m=\u001b[39;49m\u001b[38;5;28;43mself\u001b[39;49m\u001b[38;5;241;43m.\u001b[39;49m\u001b[43moptions\u001b[49m\u001b[38;5;241;43m.\u001b[39;49m\u001b[43mget\u001b[49m\u001b[43m(\u001b[49m\u001b[38;5;124;43m\"\u001b[39;49m\u001b[38;5;124;43mstorage_options\u001b[39;49m\u001b[38;5;124;43m\"\u001b[39;49m\u001b[43m,\u001b[49m\u001b[43m \u001b[49m\u001b[38;5;28;43;01mNone\u001b[39;49;00m\u001b[43m)\u001b[49m\u001b[43m,\u001b[49m\n\u001b[1;32m   1889\u001b[0m \u001b[43m\u001b[49m\u001b[43m)\u001b[49m\n\u001b[1;32m   1890\u001b[0m \u001b[38;5;28;01massert\u001b[39;00m \u001b[38;5;28mself\u001b[39m\u001b[38;5;241m.\u001b[39mhandles \u001b[38;5;129;01mis\u001b[39;00m \u001b[38;5;129;01mnot\u001b[39;00m \u001b[38;5;28;01mNone\u001b[39;00m\n\u001b[1;32m   1891\u001b[0m f \u001b[38;5;241m=\u001b[39m \u001b[38;5;28mself\u001b[39m\u001b[38;5;241m.\u001b[39mhandles\u001b[38;5;241m.\u001b[39mhandle\n",
      "File \u001b[0;32m~/.local/lib/python3.12/site-packages/pandas/io/common.py:873\u001b[0m, in \u001b[0;36mget_handle\u001b[0;34m(path_or_buf, mode, encoding, compression, memory_map, is_text, errors, storage_options)\u001b[0m\n\u001b[1;32m    868\u001b[0m \u001b[38;5;28;01melif\u001b[39;00m \u001b[38;5;28misinstance\u001b[39m(handle, \u001b[38;5;28mstr\u001b[39m):\n\u001b[1;32m    869\u001b[0m     \u001b[38;5;66;03m# Check whether the filename is to be opened in binary mode.\u001b[39;00m\n\u001b[1;32m    870\u001b[0m     \u001b[38;5;66;03m# Binary mode does not support 'encoding' and 'newline'.\u001b[39;00m\n\u001b[1;32m    871\u001b[0m     \u001b[38;5;28;01mif\u001b[39;00m ioargs\u001b[38;5;241m.\u001b[39mencoding \u001b[38;5;129;01mand\u001b[39;00m \u001b[38;5;124m\"\u001b[39m\u001b[38;5;124mb\u001b[39m\u001b[38;5;124m\"\u001b[39m \u001b[38;5;129;01mnot\u001b[39;00m \u001b[38;5;129;01min\u001b[39;00m ioargs\u001b[38;5;241m.\u001b[39mmode:\n\u001b[1;32m    872\u001b[0m         \u001b[38;5;66;03m# Encoding\u001b[39;00m\n\u001b[0;32m--> 873\u001b[0m         handle \u001b[38;5;241m=\u001b[39m \u001b[38;5;28;43mopen\u001b[39;49m\u001b[43m(\u001b[49m\n\u001b[1;32m    874\u001b[0m \u001b[43m            \u001b[49m\u001b[43mhandle\u001b[49m\u001b[43m,\u001b[49m\n\u001b[1;32m    875\u001b[0m \u001b[43m            \u001b[49m\u001b[43mioargs\u001b[49m\u001b[38;5;241;43m.\u001b[39;49m\u001b[43mmode\u001b[49m\u001b[43m,\u001b[49m\n\u001b[1;32m    876\u001b[0m \u001b[43m            \u001b[49m\u001b[43mencoding\u001b[49m\u001b[38;5;241;43m=\u001b[39;49m\u001b[43mioargs\u001b[49m\u001b[38;5;241;43m.\u001b[39;49m\u001b[43mencoding\u001b[49m\u001b[43m,\u001b[49m\n\u001b[1;32m    877\u001b[0m \u001b[43m            \u001b[49m\u001b[43merrors\u001b[49m\u001b[38;5;241;43m=\u001b[39;49m\u001b[43merrors\u001b[49m\u001b[43m,\u001b[49m\n\u001b[1;32m    878\u001b[0m \u001b[43m            \u001b[49m\u001b[43mnewline\u001b[49m\u001b[38;5;241;43m=\u001b[39;49m\u001b[38;5;124;43m\"\u001b[39;49m\u001b[38;5;124;43m\"\u001b[39;49m\u001b[43m,\u001b[49m\n\u001b[1;32m    879\u001b[0m \u001b[43m        \u001b[49m\u001b[43m)\u001b[49m\n\u001b[1;32m    880\u001b[0m     \u001b[38;5;28;01melse\u001b[39;00m:\n\u001b[1;32m    881\u001b[0m         \u001b[38;5;66;03m# Binary mode\u001b[39;00m\n\u001b[1;32m    882\u001b[0m         handle \u001b[38;5;241m=\u001b[39m \u001b[38;5;28mopen\u001b[39m(handle, ioargs\u001b[38;5;241m.\u001b[39mmode)\n",
      "\u001b[0;31mFileNotFoundError\u001b[0m: [Errno 2] No such file or directory: '2025 Games for Model Prediction.csv'"
     ]
    }
   ],
   "source": [
    "import pandas as pd\n",
    "\n",
    "# Load 2025 games file\n",
    "file_path = \"2025 Games for Model Prediction.csv\"  # Update with actual filename\n",
    "data_2025 = pd.read_csv(file_path)\n",
    "\n",
    "# Save a copy of all original columns to merge later\n",
    "extra_columns = data_2025.copy()\n",
    "\n",
    "# Define the feature columns (these are the only ones needed for prediction)\n",
    "features = [\"Net Rating_Diff\", \"AdjEM_Diff\", \"AdjOE_Diff\", \"AdjDE_Diff\",\n",
    "            \"eFGPct_Diff\", \"TOPct_Diff\", \"ORPct_Diff\", \"FTRate_Diff\"]\n",
    "\n",
    "# Select only features for model input\n",
    "X_2025 = data_2025[features]  # Keep only model training features\n",
    "\n",
    "print(\"\\nPreview of 2025 Games Data (Only Features for Model Input):\")\n",
    "print(X_2025.head())"
   ]
  },
  {
   "cell_type": "code",
   "execution_count": null,
   "metadata": {},
   "outputs": [
    {
     "name": "stdout",
     "output_type": "stream",
     "text": [
      "\n",
      "Predictions saved to predicted_2025_games_with_info.csv\n",
      "\n",
      "Sample Predictions with Extra Info:\n",
      "   Season  GameID        Team              VS  TeamID  OpponentID  \\\n",
      "0    2025     100      Auburn   Alabama State    1120        1106   \n",
      "1    2025     101  Louisville       Creighton    1257        1166   \n",
      "2    2025     102    Michigan    UC San Diego    1276        1895   \n",
      "3    2025     103   Texas A&M            Yale    1401        1463   \n",
      "4    2025     104    Ole Miss  North Carolina    1279        1314   \n",
      "\n",
      "   Net Rating_Diff  AdjEM_Diff  AdjOE_Diff  AdjDE_Diff  eFGPct_Diff  \\\n",
      "0             44.2     44.2735      27.051    -17.2227     8.655488   \n",
      "1              3.9      3.9440       1.209     -2.7352    -2.401549   \n",
      "2              3.6      3.0433       1.497     -1.5462    -0.480343   \n",
      "3             13.0     13.1372       1.837    -11.3005    -7.064508   \n",
      "4              2.4      2.5359      -1.016     -3.5525    -3.086400   \n",
      "\n",
      "   TOPct_Diff  ORPct_Diff  FTRate_Diff  Win  Predicted_Win  \n",
      "0    0.124167    6.085104     3.655763  NaN            1.0  \n",
      "1   -1.579070    5.300557     6.021685  NaN            1.0  \n",
      "2    6.599155    8.104628     1.594807  NaN            1.0  \n",
      "3    3.407327    8.416154     9.715176  NaN            1.0  \n",
      "4   -2.362040   -3.861892     0.768499  NaN            1.0  \n"
     ]
    }
   ],
   "source": [
    "##RUN MODEL FOR ROUND OF 64\n",
    "\n",
    "\n",
    "# Load the trained model\n",
    "model = joblib.load(\"Model_1.pkl\")  # Ensure this is the correct model file\n",
    "\n",
    "# Load 2025 games file\n",
    "file_path = \"2025 Games for Model Prediction.csv\"  # Update with your actual filename\n",
    "data_2025 = pd.read_csv(file_path)\n",
    "\n",
    "# Save all original columns before modification\n",
    "original_data = data_2025.copy()\n",
    "\n",
    "# Define the feature columns (same ones used in training)\n",
    "features = [\"Net Rating_Diff\", \"AdjEM_Diff\", \"AdjOE_Diff\", \"AdjDE_Diff\",\n",
    "            \"eFGPct_Diff\", \"TOPct_Diff\", \"ORPct_Diff\", \"FTRate_Diff\"]\n",
    "\n",
    "# Select only features for model input\n",
    "X_2025 = data_2025[features]  # Keep only model training features\n",
    "\n",
    "# Make predictions\n",
    "original_data[\"Predicted_Win\"] = model.predict(X_2025)\n",
    "\n",
    "# Save the final file with all columns + predictions\n",
    "output_file = \"predicted_2025_games_with_info.csv\"\n",
    "original_data.to_csv(output_file, index=False)\n",
    "\n",
    "# Display a sample of the final dataset\n",
    "print(f\"\\nPredictions saved to {output_file}\")\n",
    "print(\"\\nSample Predictions with Extra Info:\")\n",
    "print(original_data.head())"
   ]
  },
  {
   "cell_type": "code",
   "execution_count": null,
   "metadata": {},
   "outputs": [
    {
     "name": "stdout",
     "output_type": "stream",
     "text": [
      "\n",
      "Predictions saved to predicted_2025_games_with_info.csv\n",
      "\n",
      "Sample Predictions with Extra Info:\n",
      "   Season  GameID       Team              VS  TeamID  OpponentID  \\\n",
      "0    2025     132     Auburn      Louisville    1120        1257   \n",
      "1    2025     133   Michigan       Texas A&M    1276        1401   \n",
      "2    2025     134   Ole Miss      Iowa State    1279        1235   \n",
      "3    2025     135  Marquette  Michigan State    1266        1277   \n",
      "4    2025     136    Florida           Uconn    1196        1163   \n",
      "\n",
      "   Net Rating_Diff  AdjEM_Diff  AdjOE_Diff  AdjDE_Diff  eFGPct_Diff  \\\n",
      "0             12.4     12.3920      10.328     -2.0638     2.341799   \n",
      "1             -1.8     -2.2534       0.506      2.7596     7.475275   \n",
      "2             -5.0     -4.9276      -1.586      3.3417    -3.477828   \n",
      "3             -5.9     -5.9786      -0.361      5.6173     0.884577   \n",
      "4             16.9     16.4940       5.973    -10.5204    -0.383729   \n",
      "\n",
      "   TOPct_Diff  ORPct_Diff  FTRate_Diff  Predicted_Win  \n",
      "0   -3.150100    2.113631    -0.959313            1.0  \n",
      "1    1.892816   -8.309395    -6.323796            0.0  \n",
      "2   -4.134462   -6.815349    -2.874959            0.0  \n",
      "3   -3.104809   -5.209614   -11.766419            0.0  \n",
      "4   -1.998645    2.436647     1.568958            1.0  \n"
     ]
    }
   ],
   "source": [
    "##RUN MODEL FOR ROUND OF 32\n",
    "\n",
    "# Load the trained model\n",
    "model = joblib.load(\"Model_1.pkl\")  # Ensure this is the correct model file\n",
    "\n",
    "# Load 2025 games file\n",
    "file_path = \"2025 Games (Round of 32).csv\"  # Update with your actual filename\n",
    "data_2025 = pd.read_csv(file_path)\n",
    "\n",
    "# Save all original columns before modification\n",
    "original_data = data_2025.copy()\n",
    "\n",
    "# Define the feature columns (same ones used in training)\n",
    "features = [\"Net Rating_Diff\", \"AdjEM_Diff\", \"AdjOE_Diff\", \"AdjDE_Diff\",\n",
    "            \"eFGPct_Diff\", \"TOPct_Diff\", \"ORPct_Diff\", \"FTRate_Diff\"]\n",
    "\n",
    "# Select only features for model input\n",
    "X_2025 = data_2025[features]  # Keep only model training features\n",
    "\n",
    "# Make predictions\n",
    "original_data[\"Predicted_Win\"] = model.predict(X_2025)\n",
    "\n",
    "# Save the final file with all columns + predictions\n",
    "output_file = \"predicted_2025_games_with_info.csv\"\n",
    "original_data.to_csv(output_file, index=False)\n",
    "\n",
    "# Display a sample of the final dataset\n",
    "print(f\"\\nPredictions saved to {output_file}\")\n",
    "print(\"\\nSample Predictions with Extra Info:\")\n",
    "print(original_data.head())"
   ]
  },
  {
   "cell_type": "code",
   "execution_count": null,
   "metadata": {},
   "outputs": [
    {
     "name": "stdout",
     "output_type": "stream",
     "text": [
      "\n",
      "Predictions saved to predicted_2025_games_with_info.csv\n",
      "\n",
      "Sample Predictions with Extra Info:\n",
      "   Season  GameID        Team              VS  TeamID  OpponentID  \\\n",
      "0    2025     132      Auburn       Texas A&M    1120        1401   \n",
      "1    2025     133  Iowa State  Michigan State    1235        1277   \n",
      "2    2025     134     Florida        Maryland    1196        1268   \n",
      "3    2025     135  Texas Tech      St. John's    1403        1385   \n",
      "4    2025     136        Duke         Arizona    1181        1112   \n",
      "\n",
      "   Net Rating_Diff  AdjEM_Diff  AdjOE_Diff  AdjDE_Diff  eFGPct_Diff  \\\n",
      "0             10.9     10.9650      12.224      1.2588     8.238830   \n",
      "1             -0.5     -0.5662       1.427      1.9924     3.411737   \n",
      "2              9.9      9.4917       9.849      0.3580     1.367445   \n",
      "3              1.7      1.6803      11.397      9.7171     5.769780   \n",
      "4             12.5     12.4095       5.432     -6.9774     4.484616   \n",
      "\n",
      "   TOPct_Diff  ORPct_Diff  FTRate_Diff  Predicted_Win  \n",
      "0   -4.781786   -7.701119    -8.158099            1.0  \n",
      "1    0.274086   -3.156276     0.645270            0.0  \n",
      "2    0.614794    7.053033    -0.740468            1.0  \n",
      "3   -0.774719   -3.071684    -0.445394            0.0  \n",
      "4   -1.823869   -0.712956    -4.485194            1.0  \n"
     ]
    }
   ],
   "source": [
    "##RUN MODEL FOR SWEET 16\n",
    "\n",
    "# Load the trained model\n",
    "model = joblib.load(\"Model_1.pkl\")  # Ensure this is the correct model file\n",
    "\n",
    "# Load 2025 games file\n",
    "file_path = \"2025 Games (Sweet 16).csv\"  # Update with your actual filename\n",
    "data_2025 = pd.read_csv(file_path)\n",
    "\n",
    "# Save all original columns before modification\n",
    "original_data = data_2025.copy()\n",
    "\n",
    "# Define the feature columns (same ones used in training)\n",
    "features = [\"Net Rating_Diff\", \"AdjEM_Diff\", \"AdjOE_Diff\", \"AdjDE_Diff\",\n",
    "            \"eFGPct_Diff\", \"TOPct_Diff\", \"ORPct_Diff\", \"FTRate_Diff\"]\n",
    "\n",
    "# Select only features for model input\n",
    "X_2025 = data_2025[features]  # Keep only model training features\n",
    "\n",
    "# Make predictions\n",
    "original_data[\"Predicted_Win\"] = model.predict(X_2025)\n",
    "\n",
    "# Save the final file with all columns + predictions\n",
    "output_file = \"predicted_2025_games_with_info.csv\"\n",
    "original_data.to_csv(output_file, index=False)\n",
    "\n",
    "# Display a sample of the final dataset\n",
    "print(f\"\\nPredictions saved to {output_file}\")\n",
    "print(\"\\nSample Predictions with Extra Info:\")\n",
    "print(original_data.head())"
   ]
  },
  {
   "cell_type": "code",
   "execution_count": null,
   "metadata": {},
   "outputs": [
    {
     "name": "stdout",
     "output_type": "stream",
     "text": [
      "\n",
      "Predictions saved to predicted_2025_games_with_info.csv\n",
      "\n",
      "Sample Predictions with Extra Info:\n",
      "   Season  GameID     Team              VS  TeamID  OpponentID  \\\n",
      "0    2025     132   Auburn  Michigan State    1120        1277   \n",
      "1    2025     133  Florida      St. John's    1196        1385   \n",
      "2    2025     134     Duke         Alabama    1181        1104   \n",
      "3    2025     135  Houston       Tennessee    1222        1397   \n",
      "\n",
      "   Net Rating_Diff  AdjEM_Diff  AdjOE_Diff  AdjDE_Diff  eFGPct_Diff  \\\n",
      "0              7.5      7.4721      10.449      2.9763     4.561165   \n",
      "1              9.8      9.4506      14.000      4.5498     5.465553   \n",
      "2              8.3      8.2454       1.401     -6.8449     1.013231   \n",
      "3              4.2      4.0053       3.288     -0.7173    -0.120678   \n",
      "\n",
      "   TOPct_Diff  ORPct_Diff  FTRate_Diff  Predicted_Win  \n",
      "0   -3.244341   -0.981752    -4.302030            1.0  \n",
      "1   -0.437073    0.682409     2.008241            1.0  \n",
      "2   -2.253461    0.461229    -8.032743            1.0  \n",
      "3   -1.459650    0.221003    -6.465646            1.0  \n"
     ]
    }
   ],
   "source": [
    "##RUN MODEL FOR Elite 8\n",
    "\n",
    "# Load the trained model\n",
    "model = joblib.load(\"Model_1.pkl\")  # Ensure this is the correct model file\n",
    "\n",
    "# Load 2025 games file\n",
    "file_path = \"2025 Games (Elite 8).csv\"  # Update with your actual filename\n",
    "data_2025 = pd.read_csv(file_path)\n",
    "\n",
    "# Save all original columns before modification\n",
    "original_data = data_2025.copy()\n",
    "\n",
    "# Define the feature columns (same ones used in training)\n",
    "features = [\"Net Rating_Diff\", \"AdjEM_Diff\", \"AdjOE_Diff\", \"AdjDE_Diff\",\n",
    "            \"eFGPct_Diff\", \"TOPct_Diff\", \"ORPct_Diff\", \"FTRate_Diff\"]\n",
    "\n",
    "# Select only features for model input\n",
    "X_2025 = data_2025[features]  # Keep only model training features\n",
    "\n",
    "# Make predictions\n",
    "original_data[\"Predicted_Win\"] = model.predict(X_2025)\n",
    "\n",
    "# Save the final file with all columns + predictions\n",
    "output_file = \"predicted_2025_games_with_info.csv\"\n",
    "original_data.to_csv(output_file, index=False)\n",
    "\n",
    "# Display a sample of the final dataset\n",
    "print(f\"\\nPredictions saved to {output_file}\")\n",
    "print(\"\\nSample Predictions with Extra Info:\")\n",
    "print(original_data.head())"
   ]
  },
  {
   "cell_type": "code",
   "execution_count": null,
   "metadata": {},
   "outputs": [
    {
     "name": "stdout",
     "output_type": "stream",
     "text": [
      "\n",
      "Predictions saved to predicted_2025_games_with_info.csv\n",
      "\n",
      "Sample Predictions with Extra Info:\n",
      "   Season  GameID    Team       VS  TeamID  OpponentID  Net Rating_Diff  \\\n",
      "0    2025     132  Auburn  Florida    1120        1196             -1.2   \n",
      "1    2025     133    Duke  Houston    1181        1222              2.8   \n",
      "\n",
      "   AdjEM_Diff  AdjOE_Diff  AdjDE_Diff  eFGPct_Diff  TOPct_Diff  ORPct_Diff  \\\n",
      "0     -0.7873       0.567      1.3537     0.560243   -1.755336   -3.667361   \n",
      "1      2.7079       4.730      2.0217     4.686846   -0.218107   -0.955127   \n",
      "\n",
      "   FTRate_Diff  Predicted_Win  \n",
      "0     1.346916            0.0  \n",
      "1     3.925470            1.0  \n"
     ]
    }
   ],
   "source": [
    "##RUN MODEL FOR Final 4\n",
    "\n",
    "# Load the trained model\n",
    "model = joblib.load(\"Model_1.pkl\")  # Ensure this is the correct model file\n",
    "\n",
    "# Load 2025 games file\n",
    "file_path = \"2025 Games (Final 4).csv\"  # Update with your actual filename\n",
    "data_2025 = pd.read_csv(file_path)\n",
    "\n",
    "# Save all original columns before modification\n",
    "original_data = data_2025.copy()\n",
    "\n",
    "# Define the feature columns (same ones used in training)\n",
    "features = [\"Net Rating_Diff\", \"AdjEM_Diff\", \"AdjOE_Diff\", \"AdjDE_Diff\",\n",
    "            \"eFGPct_Diff\", \"TOPct_Diff\", \"ORPct_Diff\", \"FTRate_Diff\"]\n",
    "\n",
    "# Select only features for model input\n",
    "X_2025 = data_2025[features]  # Keep only model training features\n",
    "\n",
    "# Make predictions\n",
    "original_data[\"Predicted_Win\"] = model.predict(X_2025)\n",
    "\n",
    "# Save the final file with all columns + predictions\n",
    "output_file = \"predicted_2025_games_with_info.csv\"\n",
    "original_data.to_csv(output_file, index=False)\n",
    "\n",
    "# Display a sample of the final dataset\n",
    "print(f\"\\nPredictions saved to {output_file}\")\n",
    "print(\"\\nSample Predictions with Extra Info:\")\n",
    "print(original_data.head())"
   ]
  },
  {
   "cell_type": "code",
   "execution_count": null,
   "metadata": {},
   "outputs": [
    {
     "name": "stdout",
     "output_type": "stream",
     "text": [
      "\n",
      "Predictions saved to predicted_2025_games_with_info.csv\n",
      "\n",
      "Sample Predictions with Extra Info:\n",
      "   Season  GameID     Team    VS  TeamID  OpponentID  Net Rating_Diff  \\\n",
      "0    2025     132  Florida  Duke    1196        1181               -2   \n",
      "\n",
      "   AdjEM_Diff  AdjOE_Diff  AdjDE_Diff  eFGPct_Diff  TOPct_Diff  ORPct_Diff  \\\n",
      "0      -2.326      -0.061      2.2656    -2.211955    0.723045    2.831641   \n",
      "\n",
      "   FTRate_Diff  Predicted_Win  \n",
      "0     0.093813            0.0  \n"
     ]
    }
   ],
   "source": [
    "##RUN MODEL FOR NATTY\n",
    "\n",
    "# Load the trained model\n",
    "model = joblib.load(\"Model_1.pkl\")  # Ensure this is the correct model file\n",
    "\n",
    "# Load 2025 games file\n",
    "file_path = \"2025 Games (Natty).csv\"  # Update with your actual filename\n",
    "data_2025 = pd.read_csv(file_path)\n",
    "\n",
    "# Save all original columns before modification\n",
    "original_data = data_2025.copy()\n",
    "\n",
    "# Define the feature columns (same ones used in training)\n",
    "features = [\"Net Rating_Diff\", \"AdjEM_Diff\", \"AdjOE_Diff\", \"AdjDE_Diff\",\n",
    "            \"eFGPct_Diff\", \"TOPct_Diff\", \"ORPct_Diff\", \"FTRate_Diff\"]\n",
    "\n",
    "# Select only features for model input\n",
    "X_2025 = data_2025[features]  # Keep only model training features\n",
    "\n",
    "# Make predictions\n",
    "original_data[\"Predicted_Win\"] = model.predict(X_2025)\n",
    "\n",
    "# Save the final file with all columns + predictions\n",
    "output_file = \"predicted_2025_games_with_info.csv\"\n",
    "original_data.to_csv(output_file, index=False)\n",
    "\n",
    "# Display a sample of the final dataset\n",
    "print(f\"\\nPredictions saved to {output_file}\")\n",
    "print(\"\\nSample Predictions with Extra Info:\")\n",
    "print(original_data.head())"
   ]
  }
 ],
 "metadata": {
  "kernelspec": {
   "display_name": "Python 3",
   "language": "python",
   "name": "python3"
  },
  "language_info": {
   "codemirror_mode": {
    "name": "ipython",
    "version": 3
   },
   "file_extension": ".py",
   "mimetype": "text/x-python",
   "name": "python",
   "nbconvert_exporter": "python",
   "pygments_lexer": "ipython3",
   "version": "3.12.1"
  }
 },
 "nbformat": 4,
 "nbformat_minor": 2
}
